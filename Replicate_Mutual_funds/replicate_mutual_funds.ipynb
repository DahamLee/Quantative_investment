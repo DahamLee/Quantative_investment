{
 "cells": [
  {
   "cell_type": "markdown",
   "metadata": {},
   "source": [
    "## *Read Given Data & Data Preprocessing*"
   ]
  },
  {
   "cell_type": "code",
   "execution_count": 2,
   "metadata": {
    "collapsed": true
   },
   "outputs": [],
   "source": [
    "import numpy as np\n",
    "import pandas as pd"
   ]
  },
  {
   "cell_type": "code",
   "execution_count": 3,
   "metadata": {},
   "outputs": [],
   "source": [
    "mutual_fund = pd.read_csv(\"/Users/daham/Desktop/Quantitative Investment/good_projects_for_git/Replicate_Mutual_funds/Mutual_Fund_Returns.csv\")\n"
   ]
  },
  {
   "cell_type": "code",
   "execution_count": 4,
   "metadata": {},
   "outputs": [
    {
     "data": {
      "text/html": [
       "<div>\n",
       "<style>\n",
       "    .dataframe thead tr:only-child th {\n",
       "        text-align: right;\n",
       "    }\n",
       "\n",
       "    .dataframe thead th {\n",
       "        text-align: left;\n",
       "    }\n",
       "\n",
       "    .dataframe tbody tr th {\n",
       "        vertical-align: top;\n",
       "    }\n",
       "</style>\n",
       "<table border=\"1\" class=\"dataframe\">\n",
       "  <thead>\n",
       "    <tr style=\"text-align: right;\">\n",
       "      <th></th>\n",
       "      <th>crsp_fundno</th>\n",
       "      <th>date</th>\n",
       "      <th>mtna</th>\n",
       "      <th>mret</th>\n",
       "      <th>mnav</th>\n",
       "      <th>ticker</th>\n",
       "      <th>tm</th>\n",
       "    </tr>\n",
       "  </thead>\n",
       "  <tbody>\n",
       "    <tr>\n",
       "      <th>0</th>\n",
       "      <td>5270</td>\n",
       "      <td>31jan2000</td>\n",
       "      <td>10.1</td>\n",
       "      <td>-0.052530</td>\n",
       "      <td>14.79</td>\n",
       "      <td>APIMX</td>\n",
       "      <td>2000m1</td>\n",
       "    </tr>\n",
       "    <tr>\n",
       "      <th>1</th>\n",
       "      <td>5270</td>\n",
       "      <td>29feb2000</td>\n",
       "      <td>10.7</td>\n",
       "      <td>0.037187</td>\n",
       "      <td>15.34</td>\n",
       "      <td>APIMX</td>\n",
       "      <td>2000m2</td>\n",
       "    </tr>\n",
       "    <tr>\n",
       "      <th>2</th>\n",
       "      <td>5270</td>\n",
       "      <td>31mar2000</td>\n",
       "      <td>11.6</td>\n",
       "      <td>0.059974</td>\n",
       "      <td>16.26</td>\n",
       "      <td>APIMX</td>\n",
       "      <td>2000m3</td>\n",
       "    </tr>\n",
       "    <tr>\n",
       "      <th>3</th>\n",
       "      <td>5270</td>\n",
       "      <td>28apr2000</td>\n",
       "      <td>11.7</td>\n",
       "      <td>-0.041205</td>\n",
       "      <td>15.59</td>\n",
       "      <td>APIMX</td>\n",
       "      <td>2000m4</td>\n",
       "    </tr>\n",
       "    <tr>\n",
       "      <th>4</th>\n",
       "      <td>5270</td>\n",
       "      <td>31may2000</td>\n",
       "      <td>11.4</td>\n",
       "      <td>-0.035279</td>\n",
       "      <td>15.04</td>\n",
       "      <td>APIMX</td>\n",
       "      <td>2000m5</td>\n",
       "    </tr>\n",
       "  </tbody>\n",
       "</table>\n",
       "</div>"
      ],
      "text/plain": [
       "   crsp_fundno       date  mtna      mret   mnav ticker      tm\n",
       "0         5270  31jan2000  10.1 -0.052530  14.79  APIMX  2000m1\n",
       "1         5270  29feb2000  10.7  0.037187  15.34  APIMX  2000m2\n",
       "2         5270  31mar2000  11.6  0.059974  16.26  APIMX  2000m3\n",
       "3         5270  28apr2000  11.7 -0.041205  15.59  APIMX  2000m4\n",
       "4         5270  31may2000  11.4 -0.035279  15.04  APIMX  2000m5"
      ]
     },
     "execution_count": 4,
     "metadata": {},
     "output_type": "execute_result"
    }
   ],
   "source": [
    "mutual_fund.head()"
   ]
  },
  {
   "cell_type": "code",
   "execution_count": 5,
   "metadata": {
    "collapsed": true
   },
   "outputs": [],
   "source": [
    "import re\n",
    "months_dict = {'jan':'01','feb':'02','mar':'03','apr':'04','may':'05','jun':'06','jul':'07','aug':'08','sep':'09','oct':'10','nov':'11','dec':'12' }\n",
    "    "
   ]
  },
  {
   "cell_type": "code",
   "execution_count": 6,
   "metadata": {
    "collapsed": true
   },
   "outputs": [],
   "source": [
    "def word_to_num_date(word_date):\n",
    "    algorithm=re.compile(r'(?P<day>[0-9]+)(?P<month>[a-z]+)(?P<year>[0-9]+)')\n",
    "    day = algorithm.search(word_date).group('day')\n",
    "    month = months_dict[algorithm.search(word_date).group('month')]\n",
    "    year = algorithm.search(word_date).group('year')\n",
    "    return pd.to_datetime((year+month+day))"
   ]
  },
  {
   "cell_type": "code",
   "execution_count": 7,
   "metadata": {
    "collapsed": true
   },
   "outputs": [],
   "source": [
    "mutual_fund.loc[:, 'date'] = mutual_fund.loc[:, 'date'].map(word_to_num_date)\n"
   ]
  },
  {
   "cell_type": "code",
   "execution_count": 8,
   "metadata": {
    "collapsed": true
   },
   "outputs": [],
   "source": [
    "mutual_fund.loc[:, 'mret'] = mutual_fund.loc[:, 'mret'].map(lambda x : x*100)\n"
   ]
  },
  {
   "cell_type": "code",
   "execution_count": 9,
   "metadata": {
    "collapsed": true
   },
   "outputs": [],
   "source": [
    "# NAV (Net Asset Value) = (assets - liabilities) / number of outstanding shares\n"
   ]
  },
  {
   "cell_type": "code",
   "execution_count": 10,
   "metadata": {},
   "outputs": [
    {
     "data": {
      "text/html": [
       "<div>\n",
       "<style>\n",
       "    .dataframe thead tr:only-child th {\n",
       "        text-align: right;\n",
       "    }\n",
       "\n",
       "    .dataframe thead th {\n",
       "        text-align: left;\n",
       "    }\n",
       "\n",
       "    .dataframe tbody tr th {\n",
       "        vertical-align: top;\n",
       "    }\n",
       "</style>\n",
       "<table border=\"1\" class=\"dataframe\">\n",
       "  <thead>\n",
       "    <tr style=\"text-align: right;\">\n",
       "      <th></th>\n",
       "      <th>crsp_fundno</th>\n",
       "      <th>date</th>\n",
       "      <th>mtna</th>\n",
       "      <th>mret</th>\n",
       "      <th>mnav</th>\n",
       "      <th>ticker</th>\n",
       "      <th>tm</th>\n",
       "    </tr>\n",
       "  </thead>\n",
       "  <tbody>\n",
       "    <tr>\n",
       "      <th>0</th>\n",
       "      <td>5270</td>\n",
       "      <td>2000-01-31</td>\n",
       "      <td>10.1</td>\n",
       "      <td>-5.25304</td>\n",
       "      <td>14.79</td>\n",
       "      <td>APIMX</td>\n",
       "      <td>2000m1</td>\n",
       "    </tr>\n",
       "    <tr>\n",
       "      <th>1</th>\n",
       "      <td>5270</td>\n",
       "      <td>2000-02-29</td>\n",
       "      <td>10.7</td>\n",
       "      <td>3.71873</td>\n",
       "      <td>15.34</td>\n",
       "      <td>APIMX</td>\n",
       "      <td>2000m2</td>\n",
       "    </tr>\n",
       "    <tr>\n",
       "      <th>2</th>\n",
       "      <td>5270</td>\n",
       "      <td>2000-03-31</td>\n",
       "      <td>11.6</td>\n",
       "      <td>5.99739</td>\n",
       "      <td>16.26</td>\n",
       "      <td>APIMX</td>\n",
       "      <td>2000m3</td>\n",
       "    </tr>\n",
       "    <tr>\n",
       "      <th>3</th>\n",
       "      <td>5270</td>\n",
       "      <td>2000-04-28</td>\n",
       "      <td>11.7</td>\n",
       "      <td>-4.12054</td>\n",
       "      <td>15.59</td>\n",
       "      <td>APIMX</td>\n",
       "      <td>2000m4</td>\n",
       "    </tr>\n",
       "    <tr>\n",
       "      <th>4</th>\n",
       "      <td>5270</td>\n",
       "      <td>2000-05-31</td>\n",
       "      <td>11.4</td>\n",
       "      <td>-3.52790</td>\n",
       "      <td>15.04</td>\n",
       "      <td>APIMX</td>\n",
       "      <td>2000m5</td>\n",
       "    </tr>\n",
       "  </tbody>\n",
       "</table>\n",
       "</div>"
      ],
      "text/plain": [
       "   crsp_fundno       date  mtna     mret   mnav ticker      tm\n",
       "0         5270 2000-01-31  10.1 -5.25304  14.79  APIMX  2000m1\n",
       "1         5270 2000-02-29  10.7  3.71873  15.34  APIMX  2000m2\n",
       "2         5270 2000-03-31  11.6  5.99739  16.26  APIMX  2000m3\n",
       "3         5270 2000-04-28  11.7 -4.12054  15.59  APIMX  2000m4\n",
       "4         5270 2000-05-31  11.4 -3.52790  15.04  APIMX  2000m5"
      ]
     },
     "execution_count": 10,
     "metadata": {},
     "output_type": "execute_result"
    }
   ],
   "source": [
    "mutual_fund.head()"
   ]
  },
  {
   "cell_type": "code",
   "execution_count": 11,
   "metadata": {
    "scrolled": true
   },
   "outputs": [
    {
     "data": {
      "text/html": [
       "<div>\n",
       "<style>\n",
       "    .dataframe thead tr:only-child th {\n",
       "        text-align: right;\n",
       "    }\n",
       "\n",
       "    .dataframe thead th {\n",
       "        text-align: left;\n",
       "    }\n",
       "\n",
       "    .dataframe tbody tr th {\n",
       "        vertical-align: top;\n",
       "    }\n",
       "</style>\n",
       "<table border=\"1\" class=\"dataframe\">\n",
       "  <thead>\n",
       "    <tr style=\"text-align: right;\">\n",
       "      <th></th>\n",
       "      <th>crsp_fundno</th>\n",
       "      <th>date</th>\n",
       "      <th>mtna</th>\n",
       "      <th>mret</th>\n",
       "      <th>mnav</th>\n",
       "      <th>ticker</th>\n",
       "      <th>tm</th>\n",
       "    </tr>\n",
       "  </thead>\n",
       "  <tbody>\n",
       "    <tr>\n",
       "      <th>2371</th>\n",
       "      <td>32555</td>\n",
       "      <td>2017-08-31</td>\n",
       "      <td>8465.1</td>\n",
       "      <td>-0.50912</td>\n",
       "      <td>23.45</td>\n",
       "      <td>YACKX</td>\n",
       "      <td>2017m8</td>\n",
       "    </tr>\n",
       "    <tr>\n",
       "      <th>2372</th>\n",
       "      <td>32555</td>\n",
       "      <td>2017-09-29</td>\n",
       "      <td>8487.7</td>\n",
       "      <td>0.34115</td>\n",
       "      <td>23.53</td>\n",
       "      <td>YACKX</td>\n",
       "      <td>2017m9</td>\n",
       "    </tr>\n",
       "    <tr>\n",
       "      <th>2373</th>\n",
       "      <td>32555</td>\n",
       "      <td>2017-10-31</td>\n",
       "      <td>8573.1</td>\n",
       "      <td>1.99745</td>\n",
       "      <td>24.00</td>\n",
       "      <td>YACKX</td>\n",
       "      <td>2017m10</td>\n",
       "    </tr>\n",
       "    <tr>\n",
       "      <th>2374</th>\n",
       "      <td>32555</td>\n",
       "      <td>2017-11-30</td>\n",
       "      <td>8805.4</td>\n",
       "      <td>3.54167</td>\n",
       "      <td>24.85</td>\n",
       "      <td>YACKX</td>\n",
       "      <td>2017m11</td>\n",
       "    </tr>\n",
       "    <tr>\n",
       "      <th>2375</th>\n",
       "      <td>32555</td>\n",
       "      <td>2017-12-29</td>\n",
       "      <td>8728.8</td>\n",
       "      <td>1.76848</td>\n",
       "      <td>22.85</td>\n",
       "      <td>YACKX</td>\n",
       "      <td>2017m12</td>\n",
       "    </tr>\n",
       "  </tbody>\n",
       "</table>\n",
       "</div>"
      ],
      "text/plain": [
       "      crsp_fundno       date    mtna     mret   mnav ticker       tm\n",
       "2371        32555 2017-08-31  8465.1 -0.50912  23.45  YACKX   2017m8\n",
       "2372        32555 2017-09-29  8487.7  0.34115  23.53  YACKX   2017m9\n",
       "2373        32555 2017-10-31  8573.1  1.99745  24.00  YACKX  2017m10\n",
       "2374        32555 2017-11-30  8805.4  3.54167  24.85  YACKX  2017m11\n",
       "2375        32555 2017-12-29  8728.8  1.76848  22.85  YACKX  2017m12"
      ]
     },
     "execution_count": 11,
     "metadata": {},
     "output_type": "execute_result"
    }
   ],
   "source": [
    "mutual_fund.loc[mutual_fund['ticker']=='YACKX'].tail()"
   ]
  },
  {
   "cell_type": "code",
   "execution_count": 12,
   "metadata": {},
   "outputs": [
    {
     "data": {
      "text/html": [
       "<div>\n",
       "<style>\n",
       "    .dataframe thead tr:only-child th {\n",
       "        text-align: right;\n",
       "    }\n",
       "\n",
       "    .dataframe thead th {\n",
       "        text-align: left;\n",
       "    }\n",
       "\n",
       "    .dataframe tbody tr th {\n",
       "        vertical-align: top;\n",
       "    }\n",
       "</style>\n",
       "<table border=\"1\" class=\"dataframe\">\n",
       "  <thead>\n",
       "    <tr style=\"text-align: right;\">\n",
       "      <th></th>\n",
       "      <th>crsp_fundno</th>\n",
       "      <th>date</th>\n",
       "      <th>mtna</th>\n",
       "      <th>mret</th>\n",
       "      <th>mnav</th>\n",
       "      <th>ticker</th>\n",
       "      <th>tm</th>\n",
       "    </tr>\n",
       "  </thead>\n",
       "  <tbody>\n",
       "    <tr>\n",
       "      <th>2587</th>\n",
       "      <td>32556</td>\n",
       "      <td>2017-08-31</td>\n",
       "      <td>3162.1</td>\n",
       "      <td>-0.95411</td>\n",
       "      <td>21.80</td>\n",
       "      <td>YAFFX</td>\n",
       "      <td>2017m8</td>\n",
       "    </tr>\n",
       "    <tr>\n",
       "      <th>2588</th>\n",
       "      <td>32556</td>\n",
       "      <td>2017-09-29</td>\n",
       "      <td>2988.8</td>\n",
       "      <td>0.27523</td>\n",
       "      <td>21.86</td>\n",
       "      <td>YAFFX</td>\n",
       "      <td>2017m9</td>\n",
       "    </tr>\n",
       "    <tr>\n",
       "      <th>2589</th>\n",
       "      <td>32556</td>\n",
       "      <td>2017-10-31</td>\n",
       "      <td>2759.4</td>\n",
       "      <td>1.78408</td>\n",
       "      <td>22.25</td>\n",
       "      <td>YAFFX</td>\n",
       "      <td>2017m10</td>\n",
       "    </tr>\n",
       "    <tr>\n",
       "      <th>2590</th>\n",
       "      <td>32556</td>\n",
       "      <td>2017-11-30</td>\n",
       "      <td>2821.1</td>\n",
       "      <td>3.91011</td>\n",
       "      <td>23.12</td>\n",
       "      <td>YAFFX</td>\n",
       "      <td>2017m11</td>\n",
       "    </tr>\n",
       "    <tr>\n",
       "      <th>2591</th>\n",
       "      <td>32556</td>\n",
       "      <td>2017-12-29</td>\n",
       "      <td>2803.7</td>\n",
       "      <td>2.22329</td>\n",
       "      <td>21.13</td>\n",
       "      <td>YAFFX</td>\n",
       "      <td>2017m12</td>\n",
       "    </tr>\n",
       "  </tbody>\n",
       "</table>\n",
       "</div>"
      ],
      "text/plain": [
       "      crsp_fundno       date    mtna     mret   mnav ticker       tm\n",
       "2587        32556 2017-08-31  3162.1 -0.95411  21.80  YAFFX   2017m8\n",
       "2588        32556 2017-09-29  2988.8  0.27523  21.86  YAFFX   2017m9\n",
       "2589        32556 2017-10-31  2759.4  1.78408  22.25  YAFFX  2017m10\n",
       "2590        32556 2017-11-30  2821.1  3.91011  23.12  YAFFX  2017m11\n",
       "2591        32556 2017-12-29  2803.7  2.22329  21.13  YAFFX  2017m12"
      ]
     },
     "execution_count": 12,
     "metadata": {},
     "output_type": "execute_result"
    }
   ],
   "source": [
    "mutual_fund.loc[mutual_fund['ticker']=='YAFFX'].tail()"
   ]
  },
  {
   "cell_type": "markdown",
   "metadata": {},
   "source": [
    "## *Read Fama-French factors*"
   ]
  },
  {
   "cell_type": "code",
   "execution_count": 13,
   "metadata": {
    "collapsed": true
   },
   "outputs": [],
   "source": [
    "dateparser = lambda x: pd.datetime.strptime(x, '%Y%m')"
   ]
  },
  {
   "cell_type": "code",
   "execution_count": 14,
   "metadata": {},
   "outputs": [
    {
     "data": {
      "text/plain": [
       "datetime.datetime(2016, 1, 1, 0, 0)"
      ]
     },
     "execution_count": 14,
     "metadata": {},
     "output_type": "execute_result"
    }
   ],
   "source": [
    "dateparser('201601')"
   ]
  },
  {
   "cell_type": "code",
   "execution_count": 15,
   "metadata": {
    "collapsed": true
   },
   "outputs": [],
   "source": [
    "fama_french_df = pd.read_csv('/Users/daham/Desktop/Quantitative Investment/good_projects_for_git/Replicate_Mutual_funds/F-F_Research_Data_Factors.csv', skiprows=3, skipfooter=95, engine='python', index_col=0, parse_dates=True, date_parser=dateparser)\n"
   ]
  },
  {
   "cell_type": "code",
   "execution_count": 16,
   "metadata": {},
   "outputs": [
    {
     "data": {
      "text/html": [
       "<div>\n",
       "<style>\n",
       "    .dataframe thead tr:only-child th {\n",
       "        text-align: right;\n",
       "    }\n",
       "\n",
       "    .dataframe thead th {\n",
       "        text-align: left;\n",
       "    }\n",
       "\n",
       "    .dataframe tbody tr th {\n",
       "        vertical-align: top;\n",
       "    }\n",
       "</style>\n",
       "<table border=\"1\" class=\"dataframe\">\n",
       "  <thead>\n",
       "    <tr style=\"text-align: right;\">\n",
       "      <th></th>\n",
       "      <th>Mkt-RF</th>\n",
       "      <th>SMB</th>\n",
       "      <th>HML</th>\n",
       "      <th>RF</th>\n",
       "    </tr>\n",
       "  </thead>\n",
       "  <tbody>\n",
       "    <tr>\n",
       "      <th>2000-01-01</th>\n",
       "      <td>-4.74</td>\n",
       "      <td>5.05</td>\n",
       "      <td>-0.45</td>\n",
       "      <td>0.41</td>\n",
       "    </tr>\n",
       "    <tr>\n",
       "      <th>2000-02-01</th>\n",
       "      <td>2.45</td>\n",
       "      <td>22.14</td>\n",
       "      <td>-10.57</td>\n",
       "      <td>0.43</td>\n",
       "    </tr>\n",
       "    <tr>\n",
       "      <th>2000-03-01</th>\n",
       "      <td>5.20</td>\n",
       "      <td>-17.28</td>\n",
       "      <td>7.94</td>\n",
       "      <td>0.47</td>\n",
       "    </tr>\n",
       "    <tr>\n",
       "      <th>2000-04-01</th>\n",
       "      <td>-6.40</td>\n",
       "      <td>-7.71</td>\n",
       "      <td>8.56</td>\n",
       "      <td>0.46</td>\n",
       "    </tr>\n",
       "    <tr>\n",
       "      <th>2000-05-01</th>\n",
       "      <td>-4.42</td>\n",
       "      <td>-5.01</td>\n",
       "      <td>2.43</td>\n",
       "      <td>0.50</td>\n",
       "    </tr>\n",
       "  </tbody>\n",
       "</table>\n",
       "</div>"
      ],
      "text/plain": [
       "            Mkt-RF    SMB    HML    RF\n",
       "2000-01-01   -4.74   5.05  -0.45  0.41\n",
       "2000-02-01    2.45  22.14 -10.57  0.43\n",
       "2000-03-01    5.20 -17.28   7.94  0.47\n",
       "2000-04-01   -6.40  -7.71   8.56  0.46\n",
       "2000-05-01   -4.42  -5.01   2.43  0.50"
      ]
     },
     "execution_count": 16,
     "metadata": {},
     "output_type": "execute_result"
    }
   ],
   "source": [
    "fama_french = fama_french_df[882:-2]\n",
    "fama_french.head()"
   ]
  },
  {
   "cell_type": "markdown",
   "metadata": {},
   "source": [
    "# *Do Regression*"
   ]
  },
  {
   "cell_type": "code",
   "execution_count": 17,
   "metadata": {},
   "outputs": [
    {
     "name": "stderr",
     "output_type": "stream",
     "text": [
      "/Users/daham/anaconda3/lib/python3.6/site-packages/statsmodels/compat/pandas.py:56: FutureWarning: The pandas.core.datetools module is deprecated and will be removed in a future version. Please use the pandas.tseries module instead.\n",
      "  from pandas.core import datetools\n"
     ]
    }
   ],
   "source": [
    "import statsmodels.api as sm\n",
    "import statsmodels.formula.api as smf"
   ]
  },
  {
   "cell_type": "code",
   "execution_count": 18,
   "metadata": {
    "collapsed": true
   },
   "outputs": [],
   "source": [
    "def array_to_dataframe(array1, Mkt_RF_array, SMB_array, HML_array):\n",
    "    data = np.array([array1, Mkt_RF_array, SMB_array, HML_array]).T\n",
    "    tmp = pd.DataFrame(data=data, columns=['Excess_rt', 'Mkt_RF', 'SMB', 'HML'])\n",
    "    return tmp"
   ]
  },
  {
   "cell_type": "markdown",
   "metadata": {},
   "source": [
    "### *1-a) YACKX return - risk free*"
   ]
  },
  {
   "cell_type": "code",
   "execution_count": 19,
   "metadata": {
    "collapsed": true
   },
   "outputs": [],
   "source": [
    "yackx_rf = mutual_fund.loc[mutual_fund['ticker']=='YACKX']['mret'].reset_index(drop=True)-fama_french.loc[:,'RF'].reset_index(drop=True)\n"
   ]
  },
  {
   "cell_type": "code",
   "execution_count": 20,
   "metadata": {},
   "outputs": [
    {
     "data": {
      "text/plain": [
       "0   -7.43128\n",
       "1   -7.98149\n",
       "2    5.71812\n",
       "3   -4.08150\n",
       "4    2.77273\n",
       "dtype: float64"
      ]
     },
     "execution_count": 20,
     "metadata": {},
     "output_type": "execute_result"
    }
   ],
   "source": [
    "yackx_rf.head()"
   ]
  },
  {
   "cell_type": "markdown",
   "metadata": {},
   "source": [
    "### *1-b) YAFFX return - risk free*"
   ]
  },
  {
   "cell_type": "code",
   "execution_count": 21,
   "metadata": {
    "collapsed": true
   },
   "outputs": [],
   "source": [
    "yaffx_rf = mutual_fund.loc[mutual_fund['ticker']=='YAFFX']['mret'].reset_index(drop=True)-fama_french.loc[:,'RF'].reset_index(drop=True)\n"
   ]
  },
  {
   "cell_type": "code",
   "execution_count": 22,
   "metadata": {},
   "outputs": [
    {
     "data": {
      "text/plain": [
       "0    -5.43232\n",
       "1   -11.47583\n",
       "2     5.60612\n",
       "3    -5.21000\n",
       "4     1.99344\n",
       "dtype: float64"
      ]
     },
     "execution_count": 22,
     "metadata": {},
     "output_type": "execute_result"
    }
   ],
   "source": [
    "yaffx_rf.head()"
   ]
  },
  {
   "cell_type": "markdown",
   "metadata": {},
   "source": [
    "### *2-a) Preparing Regression for YACKX*"
   ]
  },
  {
   "cell_type": "code",
   "execution_count": 23,
   "metadata": {
    "collapsed": true
   },
   "outputs": [],
   "source": [
    "yackx_df = array_to_dataframe(yackx_rf, fama_french['Mkt-RF'], fama_french['SMB'], fama_french['HML'])\n"
   ]
  },
  {
   "cell_type": "code",
   "execution_count": 24,
   "metadata": {},
   "outputs": [
    {
     "data": {
      "text/html": [
       "<div>\n",
       "<style>\n",
       "    .dataframe thead tr:only-child th {\n",
       "        text-align: right;\n",
       "    }\n",
       "\n",
       "    .dataframe thead th {\n",
       "        text-align: left;\n",
       "    }\n",
       "\n",
       "    .dataframe tbody tr th {\n",
       "        vertical-align: top;\n",
       "    }\n",
       "</style>\n",
       "<table border=\"1\" class=\"dataframe\">\n",
       "  <thead>\n",
       "    <tr style=\"text-align: right;\">\n",
       "      <th></th>\n",
       "      <th>Excess_rt</th>\n",
       "      <th>Mkt_RF</th>\n",
       "      <th>SMB</th>\n",
       "      <th>HML</th>\n",
       "    </tr>\n",
       "  </thead>\n",
       "  <tbody>\n",
       "    <tr>\n",
       "      <th>0</th>\n",
       "      <td>-7.43128</td>\n",
       "      <td>-4.74</td>\n",
       "      <td>5.05</td>\n",
       "      <td>-0.45</td>\n",
       "    </tr>\n",
       "    <tr>\n",
       "      <th>1</th>\n",
       "      <td>-7.98149</td>\n",
       "      <td>2.45</td>\n",
       "      <td>22.14</td>\n",
       "      <td>-10.57</td>\n",
       "    </tr>\n",
       "    <tr>\n",
       "      <th>2</th>\n",
       "      <td>5.71812</td>\n",
       "      <td>5.20</td>\n",
       "      <td>-17.28</td>\n",
       "      <td>7.94</td>\n",
       "    </tr>\n",
       "    <tr>\n",
       "      <th>3</th>\n",
       "      <td>-4.08150</td>\n",
       "      <td>-6.40</td>\n",
       "      <td>-7.71</td>\n",
       "      <td>8.56</td>\n",
       "    </tr>\n",
       "    <tr>\n",
       "      <th>4</th>\n",
       "      <td>2.77273</td>\n",
       "      <td>-4.42</td>\n",
       "      <td>-5.01</td>\n",
       "      <td>2.43</td>\n",
       "    </tr>\n",
       "  </tbody>\n",
       "</table>\n",
       "</div>"
      ],
      "text/plain": [
       "   Excess_rt  Mkt_RF    SMB    HML\n",
       "0   -7.43128   -4.74   5.05  -0.45\n",
       "1   -7.98149    2.45  22.14 -10.57\n",
       "2    5.71812    5.20 -17.28   7.94\n",
       "3   -4.08150   -6.40  -7.71   8.56\n",
       "4    2.77273   -4.42  -5.01   2.43"
      ]
     },
     "execution_count": 24,
     "metadata": {},
     "output_type": "execute_result"
    }
   ],
   "source": [
    "yackx_df.head()"
   ]
  },
  {
   "cell_type": "markdown",
   "metadata": {},
   "source": [
    "### *2-b) Preparing Regression for YAFFX*"
   ]
  },
  {
   "cell_type": "code",
   "execution_count": 25,
   "metadata": {
    "collapsed": true
   },
   "outputs": [],
   "source": [
    "yaffx_df = array_to_dataframe(yaffx_rf, fama_french['Mkt-RF'], fama_french['SMB'], fama_french['HML'])"
   ]
  },
  {
   "cell_type": "code",
   "execution_count": 26,
   "metadata": {},
   "outputs": [
    {
     "data": {
      "text/html": [
       "<div>\n",
       "<style>\n",
       "    .dataframe thead tr:only-child th {\n",
       "        text-align: right;\n",
       "    }\n",
       "\n",
       "    .dataframe thead th {\n",
       "        text-align: left;\n",
       "    }\n",
       "\n",
       "    .dataframe tbody tr th {\n",
       "        vertical-align: top;\n",
       "    }\n",
       "</style>\n",
       "<table border=\"1\" class=\"dataframe\">\n",
       "  <thead>\n",
       "    <tr style=\"text-align: right;\">\n",
       "      <th></th>\n",
       "      <th>Excess_rt</th>\n",
       "      <th>Mkt_RF</th>\n",
       "      <th>SMB</th>\n",
       "      <th>HML</th>\n",
       "    </tr>\n",
       "  </thead>\n",
       "  <tbody>\n",
       "    <tr>\n",
       "      <th>0</th>\n",
       "      <td>-5.43232</td>\n",
       "      <td>-4.74</td>\n",
       "      <td>5.05</td>\n",
       "      <td>-0.45</td>\n",
       "    </tr>\n",
       "    <tr>\n",
       "      <th>1</th>\n",
       "      <td>-11.47583</td>\n",
       "      <td>2.45</td>\n",
       "      <td>22.14</td>\n",
       "      <td>-10.57</td>\n",
       "    </tr>\n",
       "    <tr>\n",
       "      <th>2</th>\n",
       "      <td>5.60612</td>\n",
       "      <td>5.20</td>\n",
       "      <td>-17.28</td>\n",
       "      <td>7.94</td>\n",
       "    </tr>\n",
       "    <tr>\n",
       "      <th>3</th>\n",
       "      <td>-5.21000</td>\n",
       "      <td>-6.40</td>\n",
       "      <td>-7.71</td>\n",
       "      <td>8.56</td>\n",
       "    </tr>\n",
       "    <tr>\n",
       "      <th>4</th>\n",
       "      <td>1.99344</td>\n",
       "      <td>-4.42</td>\n",
       "      <td>-5.01</td>\n",
       "      <td>2.43</td>\n",
       "    </tr>\n",
       "  </tbody>\n",
       "</table>\n",
       "</div>"
      ],
      "text/plain": [
       "   Excess_rt  Mkt_RF    SMB    HML\n",
       "0   -5.43232   -4.74   5.05  -0.45\n",
       "1  -11.47583    2.45  22.14 -10.57\n",
       "2    5.60612    5.20 -17.28   7.94\n",
       "3   -5.21000   -6.40  -7.71   8.56\n",
       "4    1.99344   -4.42  -5.01   2.43"
      ]
     },
     "execution_count": 26,
     "metadata": {},
     "output_type": "execute_result"
    }
   ],
   "source": [
    "yaffx_df.head()"
   ]
  },
  {
   "cell_type": "markdown",
   "metadata": {},
   "source": [
    "### *3-a) Do Regression for YACKX*"
   ]
  },
  {
   "cell_type": "code",
   "execution_count": 27,
   "metadata": {
    "scrolled": true
   },
   "outputs": [
    {
     "data": {
      "text/html": [
       "<table class=\"simpletable\">\n",
       "<caption>OLS Regression Results</caption>\n",
       "<tr>\n",
       "  <th>Dep. Variable:</th>        <td>Excess_rt</td>    <th>  R-squared:         </th> <td>   0.739</td>\n",
       "</tr>\n",
       "<tr>\n",
       "  <th>Model:</th>                   <td>OLS</td>       <th>  Adj. R-squared:    </th> <td>   0.735</td>\n",
       "</tr>\n",
       "<tr>\n",
       "  <th>Method:</th>             <td>Least Squares</td>  <th>  F-statistic:       </th> <td>   199.7</td>\n",
       "</tr>\n",
       "<tr>\n",
       "  <th>Date:</th>             <td>Sun, 15 Apr 2018</td> <th>  Prob (F-statistic):</th> <td>1.73e-61</td>\n",
       "</tr>\n",
       "<tr>\n",
       "  <th>Time:</th>                 <td>22:15:07</td>     <th>  Log-Likelihood:    </th> <td> -464.12</td>\n",
       "</tr>\n",
       "<tr>\n",
       "  <th>No. Observations:</th>      <td>   216</td>      <th>  AIC:               </th> <td>   936.2</td>\n",
       "</tr>\n",
       "<tr>\n",
       "  <th>Df Residuals:</th>          <td>   212</td>      <th>  BIC:               </th> <td>   949.7</td>\n",
       "</tr>\n",
       "<tr>\n",
       "  <th>Df Model:</th>              <td>     3</td>      <th>                     </th>     <td> </td>   \n",
       "</tr>\n",
       "<tr>\n",
       "  <th>Covariance Type:</th>      <td>nonrobust</td>    <th>                     </th>     <td> </td>   \n",
       "</tr>\n",
       "</table>\n",
       "<table class=\"simpletable\">\n",
       "<tr>\n",
       "      <td></td>         <th>coef</th>     <th>std err</th>      <th>t</th>      <th>P>|t|</th>  <th>[0.025</th>    <th>0.975]</th>  \n",
       "</tr>\n",
       "<tr>\n",
       "  <th>Intercept</th> <td>    0.4553</td> <td>    0.145</td> <td>    3.148</td> <td> 0.002</td> <td>    0.170</td> <td>    0.740</td>\n",
       "</tr>\n",
       "<tr>\n",
       "  <th>Mkt_RF</th>    <td>    0.7893</td> <td>    0.034</td> <td>   23.214</td> <td> 0.000</td> <td>    0.722</td> <td>    0.856</td>\n",
       "</tr>\n",
       "<tr>\n",
       "  <th>SMB</th>       <td>   -0.1130</td> <td>    0.046</td> <td>   -2.479</td> <td> 0.014</td> <td>   -0.203</td> <td>   -0.023</td>\n",
       "</tr>\n",
       "<tr>\n",
       "  <th>HML</th>       <td>    0.3355</td> <td>    0.046</td> <td>    7.246</td> <td> 0.000</td> <td>    0.244</td> <td>    0.427</td>\n",
       "</tr>\n",
       "</table>\n",
       "<table class=\"simpletable\">\n",
       "<tr>\n",
       "  <th>Omnibus:</th>       <td>96.048</td> <th>  Durbin-Watson:     </th> <td>   1.458</td> \n",
       "</tr>\n",
       "<tr>\n",
       "  <th>Prob(Omnibus):</th> <td> 0.000</td> <th>  Jarque-Bera (JB):  </th> <td> 510.439</td> \n",
       "</tr>\n",
       "<tr>\n",
       "  <th>Skew:</th>          <td> 1.667</td> <th>  Prob(JB):          </th> <td>1.44e-111</td>\n",
       "</tr>\n",
       "<tr>\n",
       "  <th>Kurtosis:</th>      <td> 9.753</td> <th>  Cond. No.          </th> <td>    4.64</td> \n",
       "</tr>\n",
       "</table>"
      ],
      "text/plain": [
       "<class 'statsmodels.iolib.summary.Summary'>\n",
       "\"\"\"\n",
       "                            OLS Regression Results                            \n",
       "==============================================================================\n",
       "Dep. Variable:              Excess_rt   R-squared:                       0.739\n",
       "Model:                            OLS   Adj. R-squared:                  0.735\n",
       "Method:                 Least Squares   F-statistic:                     199.7\n",
       "Date:                Sun, 15 Apr 2018   Prob (F-statistic):           1.73e-61\n",
       "Time:                        22:15:07   Log-Likelihood:                -464.12\n",
       "No. Observations:                 216   AIC:                             936.2\n",
       "Df Residuals:                     212   BIC:                             949.7\n",
       "Df Model:                           3                                         \n",
       "Covariance Type:            nonrobust                                         \n",
       "==============================================================================\n",
       "                 coef    std err          t      P>|t|      [0.025      0.975]\n",
       "------------------------------------------------------------------------------\n",
       "Intercept      0.4553      0.145      3.148      0.002       0.170       0.740\n",
       "Mkt_RF         0.7893      0.034     23.214      0.000       0.722       0.856\n",
       "SMB           -0.1130      0.046     -2.479      0.014      -0.203      -0.023\n",
       "HML            0.3355      0.046      7.246      0.000       0.244       0.427\n",
       "==============================================================================\n",
       "Omnibus:                       96.048   Durbin-Watson:                   1.458\n",
       "Prob(Omnibus):                  0.000   Jarque-Bera (JB):              510.439\n",
       "Skew:                           1.667   Prob(JB):                    1.44e-111\n",
       "Kurtosis:                       9.753   Cond. No.                         4.64\n",
       "==============================================================================\n",
       "\n",
       "Warnings:\n",
       "[1] Standard Errors assume that the covariance matrix of the errors is correctly specified.\n",
       "\"\"\""
      ]
     },
     "execution_count": 27,
     "metadata": {},
     "output_type": "execute_result"
    }
   ],
   "source": [
    "ff_3factor_reg_yackx = smf.ols('Excess_rt ~ Mkt_RF + SMB + HML',data=yackx_df).fit()\n",
    "ff_3factor_reg_yackx.summary()"
   ]
  },
  {
   "cell_type": "markdown",
   "metadata": {},
   "source": [
    "#### * Alpha: 0.4553 ---------- significant\n",
    "#### * Beta(Mkt-Rf): 0.7893 ---------- significant\n",
    "#### * Beta(SMB): -0.1130 ---------- significant\n",
    "#### * Beta(HML): 0.3355 ---------- significant\n",
    "#### * Adj. R-square: 0.735 "
   ]
  },
  {
   "cell_type": "markdown",
   "metadata": {},
   "source": [
    "### *3-b) Do Regression for YAFFX*"
   ]
  },
  {
   "cell_type": "code",
   "execution_count": 28,
   "metadata": {
    "scrolled": true
   },
   "outputs": [
    {
     "data": {
      "text/html": [
       "<table class=\"simpletable\">\n",
       "<caption>OLS Regression Results</caption>\n",
       "<tr>\n",
       "  <th>Dep. Variable:</th>        <td>Excess_rt</td>    <th>  R-squared:         </th> <td>   0.698</td>\n",
       "</tr>\n",
       "<tr>\n",
       "  <th>Model:</th>                   <td>OLS</td>       <th>  Adj. R-squared:    </th> <td>   0.694</td>\n",
       "</tr>\n",
       "<tr>\n",
       "  <th>Method:</th>             <td>Least Squares</td>  <th>  F-statistic:       </th> <td>   163.5</td>\n",
       "</tr>\n",
       "<tr>\n",
       "  <th>Date:</th>             <td>Sun, 15 Apr 2018</td> <th>  Prob (F-statistic):</th> <td>6.74e-55</td>\n",
       "</tr>\n",
       "<tr>\n",
       "  <th>Time:</th>                 <td>22:15:07</td>     <th>  Log-Likelihood:    </th> <td> -489.09</td>\n",
       "</tr>\n",
       "<tr>\n",
       "  <th>No. Observations:</th>      <td>   216</td>      <th>  AIC:               </th> <td>   986.2</td>\n",
       "</tr>\n",
       "<tr>\n",
       "  <th>Df Residuals:</th>          <td>   212</td>      <th>  BIC:               </th> <td>   999.7</td>\n",
       "</tr>\n",
       "<tr>\n",
       "  <th>Df Model:</th>              <td>     3</td>      <th>                     </th>     <td> </td>   \n",
       "</tr>\n",
       "<tr>\n",
       "  <th>Covariance Type:</th>      <td>nonrobust</td>    <th>                     </th>     <td> </td>   \n",
       "</tr>\n",
       "</table>\n",
       "<table class=\"simpletable\">\n",
       "<tr>\n",
       "      <td></td>         <th>coef</th>     <th>std err</th>      <th>t</th>      <th>P>|t|</th>  <th>[0.025</th>    <th>0.975]</th>  \n",
       "</tr>\n",
       "<tr>\n",
       "  <th>Intercept</th> <td>    0.4695</td> <td>    0.162</td> <td>    2.892</td> <td> 0.004</td> <td>    0.149</td> <td>    0.790</td>\n",
       "</tr>\n",
       "<tr>\n",
       "  <th>Mkt_RF</th>    <td>    0.8106</td> <td>    0.038</td> <td>   21.236</td> <td> 0.000</td> <td>    0.735</td> <td>    0.886</td>\n",
       "</tr>\n",
       "<tr>\n",
       "  <th>SMB</th>       <td>   -0.1565</td> <td>    0.051</td> <td>   -3.059</td> <td> 0.003</td> <td>   -0.257</td> <td>   -0.056</td>\n",
       "</tr>\n",
       "<tr>\n",
       "  <th>HML</th>       <td>    0.3080</td> <td>    0.052</td> <td>    5.926</td> <td> 0.000</td> <td>    0.206</td> <td>    0.410</td>\n",
       "</tr>\n",
       "</table>\n",
       "<table class=\"simpletable\">\n",
       "<tr>\n",
       "  <th>Omnibus:</th>       <td>79.436</td> <th>  Durbin-Watson:     </th> <td>   1.523</td>\n",
       "</tr>\n",
       "<tr>\n",
       "  <th>Prob(Omnibus):</th> <td> 0.000</td> <th>  Jarque-Bera (JB):  </th> <td> 384.372</td>\n",
       "</tr>\n",
       "<tr>\n",
       "  <th>Skew:</th>          <td> 1.361</td> <th>  Prob(JB):          </th> <td>3.42e-84</td>\n",
       "</tr>\n",
       "<tr>\n",
       "  <th>Kurtosis:</th>      <td> 8.942</td> <th>  Cond. No.          </th> <td>    4.64</td>\n",
       "</tr>\n",
       "</table>"
      ],
      "text/plain": [
       "<class 'statsmodels.iolib.summary.Summary'>\n",
       "\"\"\"\n",
       "                            OLS Regression Results                            \n",
       "==============================================================================\n",
       "Dep. Variable:              Excess_rt   R-squared:                       0.698\n",
       "Model:                            OLS   Adj. R-squared:                  0.694\n",
       "Method:                 Least Squares   F-statistic:                     163.5\n",
       "Date:                Sun, 15 Apr 2018   Prob (F-statistic):           6.74e-55\n",
       "Time:                        22:15:07   Log-Likelihood:                -489.09\n",
       "No. Observations:                 216   AIC:                             986.2\n",
       "Df Residuals:                     212   BIC:                             999.7\n",
       "Df Model:                           3                                         \n",
       "Covariance Type:            nonrobust                                         \n",
       "==============================================================================\n",
       "                 coef    std err          t      P>|t|      [0.025      0.975]\n",
       "------------------------------------------------------------------------------\n",
       "Intercept      0.4695      0.162      2.892      0.004       0.149       0.790\n",
       "Mkt_RF         0.8106      0.038     21.236      0.000       0.735       0.886\n",
       "SMB           -0.1565      0.051     -3.059      0.003      -0.257      -0.056\n",
       "HML            0.3080      0.052      5.926      0.000       0.206       0.410\n",
       "==============================================================================\n",
       "Omnibus:                       79.436   Durbin-Watson:                   1.523\n",
       "Prob(Omnibus):                  0.000   Jarque-Bera (JB):              384.372\n",
       "Skew:                           1.361   Prob(JB):                     3.42e-84\n",
       "Kurtosis:                       8.942   Cond. No.                         4.64\n",
       "==============================================================================\n",
       "\n",
       "Warnings:\n",
       "[1] Standard Errors assume that the covariance matrix of the errors is correctly specified.\n",
       "\"\"\""
      ]
     },
     "execution_count": 28,
     "metadata": {},
     "output_type": "execute_result"
    }
   ],
   "source": [
    "ff_3factor_reg_yaffx = smf.ols('Excess_rt ~ Mkt_RF + SMB + HML',data=yaffx_df).fit()\n",
    "ff_3factor_reg_yaffx.summary()\n"
   ]
  },
  {
   "cell_type": "markdown",
   "metadata": {},
   "source": [
    "#### * Alpha: 0.4695 ---------- significant\n",
    "#### * Beta(Mkt-Rf): 0.8106 ---------- significant\n",
    "#### * Beta(SMB): -0.1565 ---------- significant\n",
    "#### * Beta(HML): 0.3080 ---------- significant\n",
    "#### * Adj. R-square: 0.694"
   ]
  },
  {
   "cell_type": "markdown",
   "metadata": {},
   "source": [
    "## *Sharpe Ratio*"
   ]
  },
  {
   "cell_type": "code",
   "execution_count": 29,
   "metadata": {},
   "outputs": [
    {
     "name": "stdout",
     "output_type": "stream",
     "text": [
      "yackx_avg_return:  10.5019111111 %\n",
      "yaffx_avg_return:  10.5252622222 %\n",
      "\n",
      "yackx_std:  14.088139063 %\n",
      "yaffx_std:  14.7208868046 %\n",
      "\n",
      "yackx_sharpe_ratio:  0.745443458796\n",
      "yaffx_sharpe_ratio:  0.714988326583\n"
     ]
    }
   ],
   "source": [
    "yackx_avg_return = yackx_df['Excess_rt'].mean()*12\n",
    "yaffx_avg_return = yaffx_df['Excess_rt'].mean()*12\n",
    "print(\"yackx_avg_return: \", yackx_avg_return,'%')\n",
    "print(\"yaffx_avg_return: \", yaffx_avg_return,'%\\n')\n",
    "\n",
    "yackx_std = yackx_df['Excess_rt'].std()*np.sqrt(12)\n",
    "yaffx_std = yaffx_df['Excess_rt'].std()*np.sqrt(12)\n",
    "print(\"yackx_std: \", yackx_std,'%')\n",
    "print(\"yaffx_std: \", yaffx_std,'%\\n')\n",
    "\n",
    "yackx_sharpe_ratio = yackx_avg_return/yackx_std\n",
    "yaffx_sharpe_ratio = yaffx_avg_return/yaffx_std\n",
    "print(\"yackx_sharpe_ratio: \", yackx_sharpe_ratio)\n",
    "print(\"yaffx_sharpe_ratio: \", yaffx_sharpe_ratio)"
   ]
  },
  {
   "cell_type": "markdown",
   "metadata": {},
   "source": [
    "## *Compare Other Mutual Funds*"
   ]
  },
  {
   "cell_type": "code",
   "execution_count": 30,
   "metadata": {},
   "outputs": [
    {
     "data": {
      "text/plain": [
       "array(['APIMX', 'GWETX', 'FSTMX', 'FFFEX', 'FMTIX', 'VADAX', 'NBGUX',\n",
       "       'SWTSX', 'TVAFX', 'BPEQX', 'YACKX', 'YAFFX'], dtype=object)"
      ]
     },
     "execution_count": 30,
     "metadata": {},
     "output_type": "execute_result"
    }
   ],
   "source": [
    "mutual_fund['ticker'].unique()"
   ]
  },
  {
   "cell_type": "code",
   "execution_count": 31,
   "metadata": {
    "collapsed": true
   },
   "outputs": [],
   "source": [
    "apimx_rf = mutual_fund.loc[mutual_fund['ticker']=='APIMX']['mret'].reset_index(drop=True)-fama_french.loc[:,'RF'].reset_index(drop=True)\n",
    "gwetx_rf = mutual_fund.loc[mutual_fund['ticker']=='GWETX']['mret'].reset_index(drop=True)-fama_french.loc[:,'RF'].reset_index(drop=True)\n",
    "fstmx_rf = mutual_fund.loc[mutual_fund['ticker']=='FSTMX']['mret'].reset_index(drop=True)-fama_french.loc[:,'RF'].reset_index(drop=True)\n",
    "fffex_rf = mutual_fund.loc[mutual_fund['ticker']=='FFFEX']['mret'].reset_index(drop=True)-fama_french.loc[:,'RF'].reset_index(drop=True)\n",
    "fmtix_rf = mutual_fund.loc[mutual_fund['ticker']=='FMTIX']['mret'].reset_index(drop=True)-fama_french.loc[:,'RF'].reset_index(drop=True)\n",
    "vadax_rf = mutual_fund.loc[mutual_fund['ticker']=='VADAX']['mret'].reset_index(drop=True)-fama_french.loc[:,'RF'].reset_index(drop=True)\n",
    "nbgux_rf = mutual_fund.loc[mutual_fund['ticker']=='NBGUX']['mret'].reset_index(drop=True)-fama_french.loc[:,'RF'].reset_index(drop=True)\n",
    "swtsx_rf = mutual_fund.loc[mutual_fund['ticker']=='SWTSX']['mret'].reset_index(drop=True)-fama_french.loc[:,'RF'].reset_index(drop=True)\n",
    "tvafx_rf = mutual_fund.loc[mutual_fund['ticker']=='TVAFX']['mret'].reset_index(drop=True)-fama_french.loc[:,'RF'].reset_index(drop=True)\n",
    "bpeqx_rf = mutual_fund.loc[mutual_fund['ticker']=='BPEQX']['mret'].reset_index(drop=True)-fama_french.loc[:,'RF'].reset_index(drop=True)\n"
   ]
  },
  {
   "cell_type": "markdown",
   "metadata": {},
   "source": [
    "### *Shapre Ratios of other mutual funds*"
   ]
  },
  {
   "cell_type": "code",
   "execution_count": 32,
   "metadata": {
    "collapsed": true
   },
   "outputs": [],
   "source": [
    "def sharpe_ratio_calculator(excess_return):\n",
    "    return (excess_return.mean()*12) / (excess_return.std()*np.sqrt(12)) "
   ]
  },
  {
   "cell_type": "code",
   "execution_count": 33,
   "metadata": {},
   "outputs": [
    {
     "name": "stdout",
     "output_type": "stream",
     "text": [
      "apix_sharpe_ratio:  0.0611210145437\n",
      "gwetx_sharpe_ratio:  0.352569289924\n",
      "fstmx_sharpe_ratio:  0.34404718982\n",
      "fffex_sharpe_ratio:  0.280147648649\n",
      "fmtix_sharpe_ratio:  0.417890081558\n",
      "vadax_sharpe_ratio:  0.500136048144\n",
      "nbgux_sharpe_ratio:  0.352045374435\n",
      "swtsx_sharpe_ratio:  0.352227142045\n",
      "tvafx_sharpe_ratio:  0.33801522701\n",
      "bpeqx_sharpe_ratio:  0.401619846493\n"
     ]
    }
   ],
   "source": [
    "apix_sharpe_ratio = sharpe_ratio_calculator(apimx_rf)\n",
    "gwetx_sharpe_ratio = sharpe_ratio_calculator(gwetx_rf)\n",
    "fstmx_sharpe_ratio = sharpe_ratio_calculator(fstmx_rf)\n",
    "fffex_sharpe_ratio = sharpe_ratio_calculator(fffex_rf)\n",
    "fmtix_sharpe_ratio = sharpe_ratio_calculator(fmtix_rf)\n",
    "vadax_sharpe_ratio = sharpe_ratio_calculator(vadax_rf)\n",
    "nbgux_sharpe_ratio = sharpe_ratio_calculator(nbgux_rf)\n",
    "swtsx_sharpe_ratio = sharpe_ratio_calculator(swtsx_rf)\n",
    "tvafx_sharpe_ratio = sharpe_ratio_calculator(tvafx_rf)\n",
    "bpeqx_sharpe_ratio = sharpe_ratio_calculator(bpeqx_rf)\n",
    "\n",
    "print(\"apix_sharpe_ratio: \", apix_sharpe_ratio)\n",
    "print(\"gwetx_sharpe_ratio: \", gwetx_sharpe_ratio)\n",
    "print(\"fstmx_sharpe_ratio: \", fstmx_sharpe_ratio)\n",
    "print(\"fffex_sharpe_ratio: \", fffex_sharpe_ratio)\n",
    "print(\"fmtix_sharpe_ratio: \", fmtix_sharpe_ratio)\n",
    "print(\"vadax_sharpe_ratio: \", vadax_sharpe_ratio)\n",
    "print(\"nbgux_sharpe_ratio: \", nbgux_sharpe_ratio)\n",
    "print(\"swtsx_sharpe_ratio: \", swtsx_sharpe_ratio)\n",
    "print(\"tvafx_sharpe_ratio: \", tvafx_sharpe_ratio)\n",
    "print(\"bpeqx_sharpe_ratio: \", bpeqx_sharpe_ratio)\n"
   ]
  },
  {
   "cell_type": "code",
   "execution_count": 34,
   "metadata": {
    "collapsed": true
   },
   "outputs": [],
   "source": [
    "mutual_funds_dict={'yackx': yackx_sharpe_ratio \n",
    "                    ,'yaffx': yaffx_sharpe_ratio\n",
    "                    ,'apix': apix_sharpe_ratio\n",
    "                    ,'gwetx': gwetx_sharpe_ratio\n",
    "                    ,'fstmx': fstmx_sharpe_ratio\n",
    "                    ,'fffex': fffex_sharpe_ratio\n",
    "                    ,'fmtix': fmtix_sharpe_ratio\n",
    "                    ,'vadax': vadax_sharpe_ratio\n",
    "                    ,'nbgux': nbgux_sharpe_ratio\n",
    "                    ,'swtsx': swtsx_sharpe_ratio\n",
    "                    ,'tvafx': tvafx_sharpe_ratio\n",
    "                    ,'bpeqx': bpeqx_sharpe_ratio}"
   ]
  },
  {
   "cell_type": "code",
   "execution_count": 35,
   "metadata": {
    "collapsed": true
   },
   "outputs": [],
   "source": [
    "rank_sharpe_ratio = sorted(mutual_funds_dict.items(), key=lambda x: x[1], reverse=True)"
   ]
  },
  {
   "cell_type": "code",
   "execution_count": 36,
   "metadata": {
    "scrolled": true
   },
   "outputs": [
    {
     "data": {
      "text/plain": [
       "[('yackx', 0.7454434587964035),\n",
       " ('yaffx', 0.71498832658347111),\n",
       " ('vadax', 0.50013604814382673),\n",
       " ('fmtix', 0.41789008155759377),\n",
       " ('bpeqx', 0.40161984649335786),\n",
       " ('gwetx', 0.35256928992412351),\n",
       " ('swtsx', 0.35222714204478706),\n",
       " ('nbgux', 0.35204537443456452),\n",
       " ('fstmx', 0.34404718981994881),\n",
       " ('tvafx', 0.3380152270101488),\n",
       " ('fffex', 0.28014764864902542),\n",
       " ('apix', 0.061121014543707872)]"
      ]
     },
     "execution_count": 36,
     "metadata": {},
     "output_type": "execute_result"
    }
   ],
   "source": [
    "rank_sharpe_ratio"
   ]
  },
  {
   "cell_type": "markdown",
   "metadata": {},
   "source": [
    "## *Comparing two periods 2000~2009 / 2009~2017 *"
   ]
  },
  {
   "cell_type": "code",
   "execution_count": 37,
   "metadata": {
    "collapsed": true
   },
   "outputs": [],
   "source": [
    "fama_1st_half = fama_french[:108]\n",
    "fama_2nd_half = fama_french[108:]"
   ]
  },
  {
   "cell_type": "markdown",
   "metadata": {},
   "source": [
    "#### *YACKX return - risk free(1st hf, 2nd hf) & YAFFX return - risk free(1st hf, 2nd hf)* "
   ]
  },
  {
   "cell_type": "code",
   "execution_count": 38,
   "metadata": {
    "collapsed": true
   },
   "outputs": [],
   "source": [
    "yackx_rf_1st_hf = mutual_fund[mutual_fund['ticker']=='YACKX']['mret'][:108].reset_index(drop=True)-fama_1st_half.loc[:,'RF'].reset_index(drop=True)\n",
    "yackx_rf_2nd_hf = mutual_fund[mutual_fund['ticker']=='YACKX']['mret'][108:].reset_index(drop=True)-fama_2nd_half.loc[:,'RF'].reset_index(drop=True)\n",
    "\n",
    "yaffx_rf_1st_hf = mutual_fund[mutual_fund['ticker']=='YAFFX']['mret'][:108].reset_index(drop=True)-fama_1st_half.loc[:,'RF'].reset_index(drop=True)\n",
    "yaffx_rf_2nd_hf = mutual_fund[mutual_fund['ticker']=='YAFFX']['mret'][108:].reset_index(drop=True)-fama_2nd_half.loc[:,'RF'].reset_index(drop=True)\n"
   ]
  },
  {
   "cell_type": "markdown",
   "metadata": {},
   "source": [
    "#### *Do regression of **YACKX** (1st hf, 2nd hf) and **YAFFX** (1st hf, 2nd hf)*\n"
   ]
  },
  {
   "cell_type": "code",
   "execution_count": 39,
   "metadata": {
    "collapsed": true
   },
   "outputs": [],
   "source": [
    "yackx_1st_df = array_to_dataframe(yackx_rf_1st_hf, fama_1st_half['Mkt-RF'], fama_1st_half['SMB'], fama_1st_half['HML'])\n",
    "yackx_2nd_df = array_to_dataframe(yackx_rf_2nd_hf, fama_2nd_half['Mkt-RF'], fama_2nd_half['SMB'], fama_2nd_half['HML'])\n",
    "\n",
    "yaffx_1st_df = array_to_dataframe(yaffx_rf_1st_hf, fama_1st_half['Mkt-RF'], fama_1st_half['SMB'], fama_1st_half['HML'])\n",
    "yaffx_2nd_df = array_to_dataframe(yaffx_rf_2nd_hf, fama_2nd_half['Mkt-RF'], fama_2nd_half['SMB'], fama_2nd_half['HML'])\n"
   ]
  },
  {
   "cell_type": "code",
   "execution_count": 40,
   "metadata": {},
   "outputs": [
    {
     "data": {
      "text/html": [
       "<table class=\"simpletable\">\n",
       "<caption>OLS Regression Results</caption>\n",
       "<tr>\n",
       "  <th>Dep. Variable:</th>        <td>Excess_rt</td>    <th>  R-squared:         </th> <td>   0.694</td>\n",
       "</tr>\n",
       "<tr>\n",
       "  <th>Model:</th>                   <td>OLS</td>       <th>  Adj. R-squared:    </th> <td>   0.685</td>\n",
       "</tr>\n",
       "<tr>\n",
       "  <th>Method:</th>             <td>Least Squares</td>  <th>  F-statistic:       </th> <td>   78.60</td>\n",
       "</tr>\n",
       "<tr>\n",
       "  <th>Date:</th>             <td>Sun, 15 Apr 2018</td> <th>  Prob (F-statistic):</th> <td>1.26e-26</td>\n",
       "</tr>\n",
       "<tr>\n",
       "  <th>Time:</th>                 <td>22:15:11</td>     <th>  Log-Likelihood:    </th> <td> -240.59</td>\n",
       "</tr>\n",
       "<tr>\n",
       "  <th>No. Observations:</th>      <td>   108</td>      <th>  AIC:               </th> <td>   489.2</td>\n",
       "</tr>\n",
       "<tr>\n",
       "  <th>Df Residuals:</th>          <td>   104</td>      <th>  BIC:               </th> <td>   499.9</td>\n",
       "</tr>\n",
       "<tr>\n",
       "  <th>Df Model:</th>              <td>     3</td>      <th>                     </th>     <td> </td>   \n",
       "</tr>\n",
       "<tr>\n",
       "  <th>Covariance Type:</th>      <td>nonrobust</td>    <th>                     </th>     <td> </td>   \n",
       "</tr>\n",
       "</table>\n",
       "<table class=\"simpletable\">\n",
       "<tr>\n",
       "      <td></td>         <th>coef</th>     <th>std err</th>      <th>t</th>      <th>P>|t|</th>  <th>[0.025</th>    <th>0.975]</th>  \n",
       "</tr>\n",
       "<tr>\n",
       "  <th>Intercept</th> <td>    0.4998</td> <td>    0.231</td> <td>    2.164</td> <td> 0.033</td> <td>    0.042</td> <td>    0.958</td>\n",
       "</tr>\n",
       "<tr>\n",
       "  <th>Mkt_RF</th>    <td>    0.7804</td> <td>    0.051</td> <td>   15.195</td> <td> 0.000</td> <td>    0.679</td> <td>    0.882</td>\n",
       "</tr>\n",
       "<tr>\n",
       "  <th>SMB</th>       <td>   -0.0633</td> <td>    0.061</td> <td>   -1.039</td> <td> 0.301</td> <td>   -0.184</td> <td>    0.057</td>\n",
       "</tr>\n",
       "<tr>\n",
       "  <th>HML</th>       <td>    0.4044</td> <td>    0.072</td> <td>    5.616</td> <td> 0.000</td> <td>    0.262</td> <td>    0.547</td>\n",
       "</tr>\n",
       "</table>\n",
       "<table class=\"simpletable\">\n",
       "<tr>\n",
       "  <th>Omnibus:</th>       <td>10.741</td> <th>  Durbin-Watson:     </th> <td>   1.665</td>\n",
       "</tr>\n",
       "<tr>\n",
       "  <th>Prob(Omnibus):</th> <td> 0.005</td> <th>  Jarque-Bera (JB):  </th> <td>  10.942</td>\n",
       "</tr>\n",
       "<tr>\n",
       "  <th>Skew:</th>          <td> 0.694</td> <th>  Prob(JB):          </th> <td> 0.00421</td>\n",
       "</tr>\n",
       "<tr>\n",
       "  <th>Kurtosis:</th>      <td> 3.709</td> <th>  Cond. No.          </th> <td>    5.61</td>\n",
       "</tr>\n",
       "</table>"
      ],
      "text/plain": [
       "<class 'statsmodels.iolib.summary.Summary'>\n",
       "\"\"\"\n",
       "                            OLS Regression Results                            \n",
       "==============================================================================\n",
       "Dep. Variable:              Excess_rt   R-squared:                       0.694\n",
       "Model:                            OLS   Adj. R-squared:                  0.685\n",
       "Method:                 Least Squares   F-statistic:                     78.60\n",
       "Date:                Sun, 15 Apr 2018   Prob (F-statistic):           1.26e-26\n",
       "Time:                        22:15:11   Log-Likelihood:                -240.59\n",
       "No. Observations:                 108   AIC:                             489.2\n",
       "Df Residuals:                     104   BIC:                             499.9\n",
       "Df Model:                           3                                         \n",
       "Covariance Type:            nonrobust                                         \n",
       "==============================================================================\n",
       "                 coef    std err          t      P>|t|      [0.025      0.975]\n",
       "------------------------------------------------------------------------------\n",
       "Intercept      0.4998      0.231      2.164      0.033       0.042       0.958\n",
       "Mkt_RF         0.7804      0.051     15.195      0.000       0.679       0.882\n",
       "SMB           -0.0633      0.061     -1.039      0.301      -0.184       0.057\n",
       "HML            0.4044      0.072      5.616      0.000       0.262       0.547\n",
       "==============================================================================\n",
       "Omnibus:                       10.741   Durbin-Watson:                   1.665\n",
       "Prob(Omnibus):                  0.005   Jarque-Bera (JB):               10.942\n",
       "Skew:                           0.694   Prob(JB):                      0.00421\n",
       "Kurtosis:                       3.709   Cond. No.                         5.61\n",
       "==============================================================================\n",
       "\n",
       "Warnings:\n",
       "[1] Standard Errors assume that the covariance matrix of the errors is correctly specified.\n",
       "\"\"\""
      ]
     },
     "execution_count": 40,
     "metadata": {},
     "output_type": "execute_result"
    }
   ],
   "source": [
    "ff_3factor_reg_yackx_1st = smf.ols('Excess_rt ~ Mkt_RF + SMB + HML',data=yackx_1st_df).fit()\n",
    "ff_3factor_reg_yackx_2nd = smf.ols('Excess_rt ~ Mkt_RF + SMB + HML',data=yackx_2nd_df).fit()\n",
    "ff_3factor_reg_yaffx_1st = smf.ols('Excess_rt ~ Mkt_RF + SMB + HML',data=yaffx_1st_df).fit()\n",
    "ff_3factor_reg_yaffx_2nd = smf.ols('Excess_rt ~ Mkt_RF + SMB + HML',data=yaffx_2nd_df).fit()\n",
    "\n",
    "ff_3factor_reg_yackx_1st.summary()"
   ]
  },
  {
   "cell_type": "markdown",
   "metadata": {},
   "source": [
    "### *YACKX 1st half (2000~2009)*\n",
    "#### * Alpha: 0.4998 ---------- significant\n",
    "#### * Beta(Mkt-Rf): 0.7804 ---------- significant\n",
    "#### * Beta(SMB): -0.0633 ---------- insignificant\n",
    "#### * Beta(HML): 0.4044 ---------- significant\n",
    "#### * Adj. R-square: 0.685"
   ]
  },
  {
   "cell_type": "code",
   "execution_count": 41,
   "metadata": {},
   "outputs": [
    {
     "data": {
      "text/html": [
       "<table class=\"simpletable\">\n",
       "<caption>OLS Regression Results</caption>\n",
       "<tr>\n",
       "  <th>Dep. Variable:</th>        <td>Excess_rt</td>    <th>  R-squared:         </th> <td>   0.794</td>\n",
       "</tr>\n",
       "<tr>\n",
       "  <th>Model:</th>                   <td>OLS</td>       <th>  Adj. R-squared:    </th> <td>   0.788</td>\n",
       "</tr>\n",
       "<tr>\n",
       "  <th>Method:</th>             <td>Least Squares</td>  <th>  F-statistic:       </th> <td>   133.6</td>\n",
       "</tr>\n",
       "<tr>\n",
       "  <th>Date:</th>             <td>Sun, 15 Apr 2018</td> <th>  Prob (F-statistic):</th> <td>1.53e-35</td>\n",
       "</tr>\n",
       "<tr>\n",
       "  <th>Time:</th>                 <td>22:15:11</td>     <th>  Log-Likelihood:    </th> <td> -217.94</td>\n",
       "</tr>\n",
       "<tr>\n",
       "  <th>No. Observations:</th>      <td>   108</td>      <th>  AIC:               </th> <td>   443.9</td>\n",
       "</tr>\n",
       "<tr>\n",
       "  <th>Df Residuals:</th>          <td>   104</td>      <th>  BIC:               </th> <td>   454.6</td>\n",
       "</tr>\n",
       "<tr>\n",
       "  <th>Df Model:</th>              <td>     3</td>      <th>                     </th>     <td> </td>   \n",
       "</tr>\n",
       "<tr>\n",
       "  <th>Covariance Type:</th>      <td>nonrobust</td>    <th>                     </th>     <td> </td>   \n",
       "</tr>\n",
       "</table>\n",
       "<table class=\"simpletable\">\n",
       "<tr>\n",
       "      <td></td>         <th>coef</th>     <th>std err</th>      <th>t</th>      <th>P>|t|</th>  <th>[0.025</th>    <th>0.975]</th>  \n",
       "</tr>\n",
       "<tr>\n",
       "  <th>Intercept</th> <td>    0.2223</td> <td>    0.191</td> <td>    1.166</td> <td> 0.246</td> <td>   -0.156</td> <td>    0.600</td>\n",
       "</tr>\n",
       "<tr>\n",
       "  <th>Mkt_RF</th>    <td>    0.8769</td> <td>    0.052</td> <td>   16.886</td> <td> 0.000</td> <td>    0.774</td> <td>    0.980</td>\n",
       "</tr>\n",
       "<tr>\n",
       "  <th>SMB</th>       <td>   -0.2064</td> <td>    0.083</td> <td>   -2.490</td> <td> 0.014</td> <td>   -0.371</td> <td>   -0.042</td>\n",
       "</tr>\n",
       "<tr>\n",
       "  <th>HML</th>       <td>    0.2072</td> <td>    0.072</td> <td>    2.872</td> <td> 0.005</td> <td>    0.064</td> <td>    0.350</td>\n",
       "</tr>\n",
       "</table>\n",
       "<table class=\"simpletable\">\n",
       "<tr>\n",
       "  <th>Omnibus:</th>       <td>121.745</td> <th>  Durbin-Watson:     </th> <td>   1.271</td>\n",
       "</tr>\n",
       "<tr>\n",
       "  <th>Prob(Omnibus):</th> <td> 0.000</td>  <th>  Jarque-Bera (JB):  </th> <td>2800.856</td>\n",
       "</tr>\n",
       "<tr>\n",
       "  <th>Skew:</th>          <td> 3.717</td>  <th>  Prob(JB):          </th> <td>    0.00</td>\n",
       "</tr>\n",
       "<tr>\n",
       "  <th>Kurtosis:</th>      <td>26.815</td>  <th>  Cond. No.          </th> <td>    4.77</td>\n",
       "</tr>\n",
       "</table>"
      ],
      "text/plain": [
       "<class 'statsmodels.iolib.summary.Summary'>\n",
       "\"\"\"\n",
       "                            OLS Regression Results                            \n",
       "==============================================================================\n",
       "Dep. Variable:              Excess_rt   R-squared:                       0.794\n",
       "Model:                            OLS   Adj. R-squared:                  0.788\n",
       "Method:                 Least Squares   F-statistic:                     133.6\n",
       "Date:                Sun, 15 Apr 2018   Prob (F-statistic):           1.53e-35\n",
       "Time:                        22:15:11   Log-Likelihood:                -217.94\n",
       "No. Observations:                 108   AIC:                             443.9\n",
       "Df Residuals:                     104   BIC:                             454.6\n",
       "Df Model:                           3                                         \n",
       "Covariance Type:            nonrobust                                         \n",
       "==============================================================================\n",
       "                 coef    std err          t      P>|t|      [0.025      0.975]\n",
       "------------------------------------------------------------------------------\n",
       "Intercept      0.2223      0.191      1.166      0.246      -0.156       0.600\n",
       "Mkt_RF         0.8769      0.052     16.886      0.000       0.774       0.980\n",
       "SMB           -0.2064      0.083     -2.490      0.014      -0.371      -0.042\n",
       "HML            0.2072      0.072      2.872      0.005       0.064       0.350\n",
       "==============================================================================\n",
       "Omnibus:                      121.745   Durbin-Watson:                   1.271\n",
       "Prob(Omnibus):                  0.000   Jarque-Bera (JB):             2800.856\n",
       "Skew:                           3.717   Prob(JB):                         0.00\n",
       "Kurtosis:                      26.815   Cond. No.                         4.77\n",
       "==============================================================================\n",
       "\n",
       "Warnings:\n",
       "[1] Standard Errors assume that the covariance matrix of the errors is correctly specified.\n",
       "\"\"\""
      ]
     },
     "execution_count": 41,
     "metadata": {},
     "output_type": "execute_result"
    }
   ],
   "source": [
    "ff_3factor_reg_yackx_2nd.summary()"
   ]
  },
  {
   "cell_type": "markdown",
   "metadata": {},
   "source": [
    "### *YACKX 2nd half (2009~2017)*\n",
    "#### * Alpha: 0.2223 ---------- insignificant\n",
    "#### * Beta(Mkt-Rf): 0.8769 ---------- significant\n",
    "#### * Beta(SMB): -0.2064 ---------- insignificant\n",
    "#### * Beta(HML): 0.2072 ---------- significant\n",
    "#### * Adj. R-square: 0.794"
   ]
  },
  {
   "cell_type": "code",
   "execution_count": 42,
   "metadata": {},
   "outputs": [
    {
     "data": {
      "text/html": [
       "<table class=\"simpletable\">\n",
       "<caption>OLS Regression Results</caption>\n",
       "<tr>\n",
       "  <th>Dep. Variable:</th>        <td>Excess_rt</td>    <th>  R-squared:         </th> <td>   0.669</td>\n",
       "</tr>\n",
       "<tr>\n",
       "  <th>Model:</th>                   <td>OLS</td>       <th>  Adj. R-squared:    </th> <td>   0.659</td>\n",
       "</tr>\n",
       "<tr>\n",
       "  <th>Method:</th>             <td>Least Squares</td>  <th>  F-statistic:       </th> <td>   70.02</td>\n",
       "</tr>\n",
       "<tr>\n",
       "  <th>Date:</th>             <td>Sun, 15 Apr 2018</td> <th>  Prob (F-statistic):</th> <td>7.40e-25</td>\n",
       "</tr>\n",
       "<tr>\n",
       "  <th>Time:</th>                 <td>22:15:11</td>     <th>  Log-Likelihood:    </th> <td> -251.38</td>\n",
       "</tr>\n",
       "<tr>\n",
       "  <th>No. Observations:</th>      <td>   108</td>      <th>  AIC:               </th> <td>   510.8</td>\n",
       "</tr>\n",
       "<tr>\n",
       "  <th>Df Residuals:</th>          <td>   104</td>      <th>  BIC:               </th> <td>   521.5</td>\n",
       "</tr>\n",
       "<tr>\n",
       "  <th>Df Model:</th>              <td>     3</td>      <th>                     </th>     <td> </td>   \n",
       "</tr>\n",
       "<tr>\n",
       "  <th>Covariance Type:</th>      <td>nonrobust</td>    <th>                     </th>     <td> </td>   \n",
       "</tr>\n",
       "</table>\n",
       "<table class=\"simpletable\">\n",
       "<tr>\n",
       "      <td></td>         <th>coef</th>     <th>std err</th>      <th>t</th>      <th>P>|t|</th>  <th>[0.025</th>    <th>0.975]</th>  \n",
       "</tr>\n",
       "<tr>\n",
       "  <th>Intercept</th> <td>    0.5346</td> <td>    0.255</td> <td>    2.094</td> <td> 0.039</td> <td>    0.028</td> <td>    1.041</td>\n",
       "</tr>\n",
       "<tr>\n",
       "  <th>Mkt_RF</th>    <td>    0.8162</td> <td>    0.057</td> <td>   14.381</td> <td> 0.000</td> <td>    0.704</td> <td>    0.929</td>\n",
       "</tr>\n",
       "<tr>\n",
       "  <th>SMB</th>       <td>   -0.1100</td> <td>    0.067</td> <td>   -1.634</td> <td> 0.105</td> <td>   -0.243</td> <td>    0.024</td>\n",
       "</tr>\n",
       "<tr>\n",
       "  <th>HML</th>       <td>    0.3845</td> <td>    0.080</td> <td>    4.832</td> <td> 0.000</td> <td>    0.227</td> <td>    0.542</td>\n",
       "</tr>\n",
       "</table>\n",
       "<table class=\"simpletable\">\n",
       "<tr>\n",
       "  <th>Omnibus:</th>       <td> 2.206</td> <th>  Durbin-Watson:     </th> <td>   1.701</td>\n",
       "</tr>\n",
       "<tr>\n",
       "  <th>Prob(Omnibus):</th> <td> 0.332</td> <th>  Jarque-Bera (JB):  </th> <td>   1.635</td>\n",
       "</tr>\n",
       "<tr>\n",
       "  <th>Skew:</th>          <td> 0.253</td> <th>  Prob(JB):          </th> <td>   0.441</td>\n",
       "</tr>\n",
       "<tr>\n",
       "  <th>Kurtosis:</th>      <td> 3.329</td> <th>  Cond. No.          </th> <td>    5.61</td>\n",
       "</tr>\n",
       "</table>"
      ],
      "text/plain": [
       "<class 'statsmodels.iolib.summary.Summary'>\n",
       "\"\"\"\n",
       "                            OLS Regression Results                            \n",
       "==============================================================================\n",
       "Dep. Variable:              Excess_rt   R-squared:                       0.669\n",
       "Model:                            OLS   Adj. R-squared:                  0.659\n",
       "Method:                 Least Squares   F-statistic:                     70.02\n",
       "Date:                Sun, 15 Apr 2018   Prob (F-statistic):           7.40e-25\n",
       "Time:                        22:15:11   Log-Likelihood:                -251.38\n",
       "No. Observations:                 108   AIC:                             510.8\n",
       "Df Residuals:                     104   BIC:                             521.5\n",
       "Df Model:                           3                                         \n",
       "Covariance Type:            nonrobust                                         \n",
       "==============================================================================\n",
       "                 coef    std err          t      P>|t|      [0.025      0.975]\n",
       "------------------------------------------------------------------------------\n",
       "Intercept      0.5346      0.255      2.094      0.039       0.028       1.041\n",
       "Mkt_RF         0.8162      0.057     14.381      0.000       0.704       0.929\n",
       "SMB           -0.1100      0.067     -1.634      0.105      -0.243       0.024\n",
       "HML            0.3845      0.080      4.832      0.000       0.227       0.542\n",
       "==============================================================================\n",
       "Omnibus:                        2.206   Durbin-Watson:                   1.701\n",
       "Prob(Omnibus):                  0.332   Jarque-Bera (JB):                1.635\n",
       "Skew:                           0.253   Prob(JB):                        0.441\n",
       "Kurtosis:                       3.329   Cond. No.                         5.61\n",
       "==============================================================================\n",
       "\n",
       "Warnings:\n",
       "[1] Standard Errors assume that the covariance matrix of the errors is correctly specified.\n",
       "\"\"\""
      ]
     },
     "execution_count": 42,
     "metadata": {},
     "output_type": "execute_result"
    }
   ],
   "source": [
    "ff_3factor_reg_yaffx_1st.summary()"
   ]
  },
  {
   "cell_type": "markdown",
   "metadata": {},
   "source": [
    "### *YAFFX 1st half (2000~2009)*\n",
    "#### * Alpha: 0.5346 ---------- significant\n",
    "#### * Beta(Mkt-Rf): 0.8162 ---------- significant\n",
    "#### * Beta(SMB): -0.1100 ---------- insignificant\n",
    "#### * Beta(HML): 0.3845 ---------- significant\n",
    "#### * Adj. R-square: 0.659"
   ]
  },
  {
   "cell_type": "code",
   "execution_count": 43,
   "metadata": {},
   "outputs": [
    {
     "data": {
      "text/html": [
       "<table class=\"simpletable\">\n",
       "<caption>OLS Regression Results</caption>\n",
       "<tr>\n",
       "  <th>Dep. Variable:</th>        <td>Excess_rt</td>    <th>  R-squared:         </th> <td>   0.738</td>\n",
       "</tr>\n",
       "<tr>\n",
       "  <th>Model:</th>                   <td>OLS</td>       <th>  Adj. R-squared:    </th> <td>   0.730</td>\n",
       "</tr>\n",
       "<tr>\n",
       "  <th>Method:</th>             <td>Least Squares</td>  <th>  F-statistic:       </th> <td>   97.43</td>\n",
       "</tr>\n",
       "<tr>\n",
       "  <th>Date:</th>             <td>Sun, 15 Apr 2018</td> <th>  Prob (F-statistic):</th> <td>4.34e-30</td>\n",
       "</tr>\n",
       "<tr>\n",
       "  <th>Time:</th>                 <td>22:15:12</td>     <th>  Log-Likelihood:    </th> <td> -233.87</td>\n",
       "</tr>\n",
       "<tr>\n",
       "  <th>No. Observations:</th>      <td>   108</td>      <th>  AIC:               </th> <td>   475.7</td>\n",
       "</tr>\n",
       "<tr>\n",
       "  <th>Df Residuals:</th>          <td>   104</td>      <th>  BIC:               </th> <td>   486.5</td>\n",
       "</tr>\n",
       "<tr>\n",
       "  <th>Df Model:</th>              <td>     3</td>      <th>                     </th>     <td> </td>   \n",
       "</tr>\n",
       "<tr>\n",
       "  <th>Covariance Type:</th>      <td>nonrobust</td>    <th>                     </th>     <td> </td>   \n",
       "</tr>\n",
       "</table>\n",
       "<table class=\"simpletable\">\n",
       "<tr>\n",
       "      <td></td>         <th>coef</th>     <th>std err</th>      <th>t</th>      <th>P>|t|</th>  <th>[0.025</th>    <th>0.975]</th>  \n",
       "</tr>\n",
       "<tr>\n",
       "  <th>Intercept</th> <td>    0.2373</td> <td>    0.221</td> <td>    1.075</td> <td> 0.285</td> <td>   -0.201</td> <td>    0.675</td>\n",
       "</tr>\n",
       "<tr>\n",
       "  <th>Mkt_RF</th>    <td>    0.8810</td> <td>    0.060</td> <td>   14.640</td> <td> 0.000</td> <td>    0.762</td> <td>    1.000</td>\n",
       "</tr>\n",
       "<tr>\n",
       "  <th>SMB</th>       <td>   -0.2324</td> <td>    0.096</td> <td>   -2.420</td> <td> 0.017</td> <td>   -0.423</td> <td>   -0.042</td>\n",
       "</tr>\n",
       "<tr>\n",
       "  <th>HML</th>       <td>    0.1784</td> <td>    0.084</td> <td>    2.133</td> <td> 0.035</td> <td>    0.013</td> <td>    0.344</td>\n",
       "</tr>\n",
       "</table>\n",
       "<table class=\"simpletable\">\n",
       "<tr>\n",
       "  <th>Omnibus:</th>       <td>111.283</td> <th>  Durbin-Watson:     </th> <td>   1.346</td>\n",
       "</tr>\n",
       "<tr>\n",
       "  <th>Prob(Omnibus):</th> <td> 0.000</td>  <th>  Jarque-Bera (JB):  </th> <td>1964.525</td>\n",
       "</tr>\n",
       "<tr>\n",
       "  <th>Skew:</th>          <td> 3.344</td>  <th>  Prob(JB):          </th> <td>    0.00</td>\n",
       "</tr>\n",
       "<tr>\n",
       "  <th>Kurtosis:</th>      <td>22.795</td>  <th>  Cond. No.          </th> <td>    4.77</td>\n",
       "</tr>\n",
       "</table>"
      ],
      "text/plain": [
       "<class 'statsmodels.iolib.summary.Summary'>\n",
       "\"\"\"\n",
       "                            OLS Regression Results                            \n",
       "==============================================================================\n",
       "Dep. Variable:              Excess_rt   R-squared:                       0.738\n",
       "Model:                            OLS   Adj. R-squared:                  0.730\n",
       "Method:                 Least Squares   F-statistic:                     97.43\n",
       "Date:                Sun, 15 Apr 2018   Prob (F-statistic):           4.34e-30\n",
       "Time:                        22:15:12   Log-Likelihood:                -233.87\n",
       "No. Observations:                 108   AIC:                             475.7\n",
       "Df Residuals:                     104   BIC:                             486.5\n",
       "Df Model:                           3                                         \n",
       "Covariance Type:            nonrobust                                         \n",
       "==============================================================================\n",
       "                 coef    std err          t      P>|t|      [0.025      0.975]\n",
       "------------------------------------------------------------------------------\n",
       "Intercept      0.2373      0.221      1.075      0.285      -0.201       0.675\n",
       "Mkt_RF         0.8810      0.060     14.640      0.000       0.762       1.000\n",
       "SMB           -0.2324      0.096     -2.420      0.017      -0.423      -0.042\n",
       "HML            0.1784      0.084      2.133      0.035       0.013       0.344\n",
       "==============================================================================\n",
       "Omnibus:                      111.283   Durbin-Watson:                   1.346\n",
       "Prob(Omnibus):                  0.000   Jarque-Bera (JB):             1964.525\n",
       "Skew:                           3.344   Prob(JB):                         0.00\n",
       "Kurtosis:                      22.795   Cond. No.                         4.77\n",
       "==============================================================================\n",
       "\n",
       "Warnings:\n",
       "[1] Standard Errors assume that the covariance matrix of the errors is correctly specified.\n",
       "\"\"\""
      ]
     },
     "execution_count": 43,
     "metadata": {},
     "output_type": "execute_result"
    }
   ],
   "source": [
    "ff_3factor_reg_yaffx_2nd.summary()"
   ]
  },
  {
   "cell_type": "markdown",
   "metadata": {},
   "source": [
    "### *YAFFX 2nd half (2009~2017)*\n",
    "#### * Alpha: 0.2373 ---------- insignificant\n",
    "#### * Beta(Mkt-Rf): 0.8810 ---------- significant\n",
    "#### * Beta(SMB): -0.2324 ---------- significant\n",
    "#### * Beta(HML): 0.1784 ---------- significant\n",
    "#### * Adj. R-square: 0.730"
   ]
  },
  {
   "cell_type": "markdown",
   "metadata": {},
   "source": [
    "## *Sharpe Ratio of all mutual funds*"
   ]
  },
  {
   "cell_type": "code",
   "execution_count": 44,
   "metadata": {
    "collapsed": true
   },
   "outputs": [],
   "source": [
    "\n",
    "# 1st half\n",
    "apimx_rf_1st_hf = mutual_fund.loc[mutual_fund['ticker']=='APIMX']['mret'][:108].reset_index(drop=True)-fama_1st_half.loc[:,'RF'].reset_index(drop=True)\n",
    "gwetx_rf_1st_hf = mutual_fund.loc[mutual_fund['ticker']=='GWETX']['mret'][:108].reset_index(drop=True)-fama_1st_half.loc[:,'RF'].reset_index(drop=True)\n",
    "fstmx_rf_1st_hf = mutual_fund.loc[mutual_fund['ticker']=='FSTMX']['mret'][:108].reset_index(drop=True)-fama_1st_half.loc[:,'RF'].reset_index(drop=True)\n",
    "fffex_rf_1st_hf = mutual_fund.loc[mutual_fund['ticker']=='FFFEX']['mret'][:108].reset_index(drop=True)-fama_1st_half.loc[:,'RF'].reset_index(drop=True)\n",
    "fmtix_rf_1st_hf = mutual_fund.loc[mutual_fund['ticker']=='FMTIX']['mret'][:108].reset_index(drop=True)-fama_1st_half.loc[:,'RF'].reset_index(drop=True)\n",
    "vadax_rf_1st_hf = mutual_fund.loc[mutual_fund['ticker']=='VADAX']['mret'][:108].reset_index(drop=True)-fama_1st_half.loc[:,'RF'].reset_index(drop=True)\n",
    "nbgux_rf_1st_hf = mutual_fund.loc[mutual_fund['ticker']=='NBGUX']['mret'][:108].reset_index(drop=True)-fama_1st_half.loc[:,'RF'].reset_index(drop=True)\n",
    "swtsx_rf_1st_hf = mutual_fund.loc[mutual_fund['ticker']=='SWTSX']['mret'][:108].reset_index(drop=True)-fama_1st_half.loc[:,'RF'].reset_index(drop=True)\n",
    "tvafx_rf_1st_hf = mutual_fund.loc[mutual_fund['ticker']=='TVAFX']['mret'][:108].reset_index(drop=True)-fama_1st_half.loc[:,'RF'].reset_index(drop=True)\n",
    "bpeqx_rf_1st_hf = mutual_fund.loc[mutual_fund['ticker']=='BPEQX']['mret'][:108].reset_index(drop=True)-fama_1st_half.loc[:,'RF'].reset_index(drop=True)\n",
    "\n",
    "# 2nd half\n",
    "apimx_rf_2nd_hf = mutual_fund.loc[mutual_fund['ticker']=='APIMX']['mret'][108:].reset_index(drop=True)-fama_2nd_half.loc[:,'RF'].reset_index(drop=True)\n",
    "gwetx_rf_2nd_hf = mutual_fund.loc[mutual_fund['ticker']=='GWETX']['mret'][108:].reset_index(drop=True)-fama_2nd_half.loc[:,'RF'].reset_index(drop=True)\n",
    "fstmx_rf_2nd_hf = mutual_fund.loc[mutual_fund['ticker']=='FSTMX']['mret'][108:].reset_index(drop=True)-fama_2nd_half.loc[:,'RF'].reset_index(drop=True)\n",
    "fffex_rf_2nd_hf = mutual_fund.loc[mutual_fund['ticker']=='FFFEX']['mret'][108:].reset_index(drop=True)-fama_2nd_half.loc[:,'RF'].reset_index(drop=True)\n",
    "fmtix_rf_2nd_hf = mutual_fund.loc[mutual_fund['ticker']=='FMTIX']['mret'][108:].reset_index(drop=True)-fama_2nd_half.loc[:,'RF'].reset_index(drop=True)\n",
    "vadax_rf_2nd_hf = mutual_fund.loc[mutual_fund['ticker']=='VADAX']['mret'][108:].reset_index(drop=True)-fama_2nd_half.loc[:,'RF'].reset_index(drop=True)\n",
    "nbgux_rf_2nd_hf = mutual_fund.loc[mutual_fund['ticker']=='NBGUX']['mret'][108:].reset_index(drop=True)-fama_2nd_half.loc[:,'RF'].reset_index(drop=True)\n",
    "swtsx_rf_2nd_hf = mutual_fund.loc[mutual_fund['ticker']=='SWTSX']['mret'][108:].reset_index(drop=True)-fama_2nd_half.loc[:,'RF'].reset_index(drop=True)\n",
    "tvafx_rf_2nd_hf = mutual_fund.loc[mutual_fund['ticker']=='TVAFX']['mret'][108:].reset_index(drop=True)-fama_2nd_half.loc[:,'RF'].reset_index(drop=True)\n",
    "bpeqx_rf_2nd_hf = mutual_fund.loc[mutual_fund['ticker']=='BPEQX']['mret'][108:].reset_index(drop=True)-fama_2nd_half.loc[:,'RF'].reset_index(drop=True)\n"
   ]
  },
  {
   "cell_type": "code",
   "execution_count": 45,
   "metadata": {
    "collapsed": true
   },
   "outputs": [],
   "source": [
    "# sharpe ratios of 1st halves\n",
    "yackx_sharpe_ratio_1st = sharpe_ratio_calculator(yackx_rf_1st_hf)\n",
    "yaffx_sharpe_ratio_1st = sharpe_ratio_calculator(yaffx_rf_1st_hf)\n",
    "apix_sharpe_ratio_1st = sharpe_ratio_calculator(apimx_rf_1st_hf)\n",
    "gwetx_sharpe_ratio_1st = sharpe_ratio_calculator(gwetx_rf_1st_hf)\n",
    "fstmx_sharpe_ratio_1st = sharpe_ratio_calculator(fstmx_rf_1st_hf)\n",
    "fffex_sharpe_ratio_1st = sharpe_ratio_calculator(fffex_rf_1st_hf)\n",
    "fmtix_sharpe_ratio_1st = sharpe_ratio_calculator(fmtix_rf_1st_hf)\n",
    "vadax_sharpe_ratio_1st = sharpe_ratio_calculator(vadax_rf_1st_hf)\n",
    "nbgux_sharpe_ratio_1st = sharpe_ratio_calculator(nbgux_rf_1st_hf)\n",
    "swtsx_sharpe_ratio_1st = sharpe_ratio_calculator(swtsx_rf_1st_hf)\n",
    "tvafx_sharpe_ratio_1st = sharpe_ratio_calculator(tvafx_rf_1st_hf)\n",
    "bpeqx_sharpe_ratio_1st = sharpe_ratio_calculator(bpeqx_rf_1st_hf)\n"
   ]
  },
  {
   "cell_type": "code",
   "execution_count": 46,
   "metadata": {
    "collapsed": true
   },
   "outputs": [],
   "source": [
    "# sharpe ratios of 2nd halves\n",
    "yackx_sharpe_ratio_2nd = sharpe_ratio_calculator(yackx_rf_2nd_hf)\n",
    "yaffx_sharpe_ratio_2nd = sharpe_ratio_calculator(yaffx_rf_2nd_hf)\n",
    "apix_sharpe_ratio_2nd = sharpe_ratio_calculator(apimx_rf_2nd_hf)\n",
    "gwetx_sharpe_ratio_2nd = sharpe_ratio_calculator(gwetx_rf_2nd_hf)\n",
    "fstmx_sharpe_ratio_2nd = sharpe_ratio_calculator(fstmx_rf_2nd_hf)\n",
    "fffex_sharpe_ratio_2nd = sharpe_ratio_calculator(fffex_rf_2nd_hf)\n",
    "fmtix_sharpe_ratio_2nd = sharpe_ratio_calculator(fmtix_rf_2nd_hf)\n",
    "vadax_sharpe_ratio_2nd = sharpe_ratio_calculator(vadax_rf_2nd_hf)\n",
    "nbgux_sharpe_ratio_2nd = sharpe_ratio_calculator(nbgux_rf_2nd_hf)\n",
    "swtsx_sharpe_ratio_2nd = sharpe_ratio_calculator(swtsx_rf_2nd_hf)\n",
    "tvafx_sharpe_ratio_2nd = sharpe_ratio_calculator(tvafx_rf_2nd_hf)\n",
    "bpeqx_sharpe_ratio_2nd = sharpe_ratio_calculator(bpeqx_rf_2nd_hf)\n"
   ]
  },
  {
   "cell_type": "code",
   "execution_count": 47,
   "metadata": {
    "collapsed": true
   },
   "outputs": [],
   "source": [
    "mutual_funds_dict_2halves={'yackx_1st': yackx_sharpe_ratio_1st \n",
    "                            ,'yaffx_1st': yaffx_sharpe_ratio_1st\n",
    "                            ,'apix_1st': apix_sharpe_ratio_1st\n",
    "                            ,'gwetx_1st': gwetx_sharpe_ratio_1st\n",
    "                            ,'fstmx_1st': fstmx_sharpe_ratio_1st\n",
    "                            ,'fffex_1st': fffex_sharpe_ratio_1st\n",
    "                            ,'fmtix_1st': fmtix_sharpe_ratio_1st\n",
    "                            ,'vadax_1st': vadax_sharpe_ratio_1st\n",
    "                            ,'nbgux_1st': nbgux_sharpe_ratio_1st\n",
    "                            ,'swtsx_1st': swtsx_sharpe_ratio_1st\n",
    "                            ,'tvafx_1st': tvafx_sharpe_ratio_1st\n",
    "                            ,'bpeqx_1st': bpeqx_sharpe_ratio_1st\n",
    "                            ,'yackx_2nd': yackx_sharpe_ratio_2nd \n",
    "                            ,'yaffx_2nd': yaffx_sharpe_ratio_2nd\n",
    "                            ,'apix_2nd': apix_sharpe_ratio_2nd\n",
    "                            ,'gwetx_2nd': gwetx_sharpe_ratio_2nd\n",
    "                            ,'fstmx_2nd': fstmx_sharpe_ratio_2nd\n",
    "                            ,'fffex_2nd': fffex_sharpe_ratio_2nd\n",
    "                            ,'fmtix_2nd': fmtix_sharpe_ratio_2nd\n",
    "                            ,'vadax_2nd': vadax_sharpe_ratio_2nd\n",
    "                            ,'nbgux_2nd': nbgux_sharpe_ratio_2nd\n",
    "                            ,'swtsx_2nd': swtsx_sharpe_ratio_2nd\n",
    "                            ,'tvafx_2nd': tvafx_sharpe_ratio_2nd\n",
    "                            ,'bpeqx_2nd': bpeqx_sharpe_ratio_2nd}\n"
   ]
  },
  {
   "cell_type": "code",
   "execution_count": 48,
   "metadata": {},
   "outputs": [
    {
     "data": {
      "text/plain": [
       "[('yackx_2nd', 1.1228088604786117),\n",
       " ('swtsx_2nd', 1.1165249128240062),\n",
       " ('yaffx_2nd', 1.1100221085148272),\n",
       " ('fstmx_2nd', 1.1055135370473612),\n",
       " ('vadax_2nd', 1.0784553098569287),\n",
       " ('gwetx_2nd', 1.0769833454919329),\n",
       " ('nbgux_2nd', 1.0358106783869594),\n",
       " ('fmtix_2nd', 1.0351471439026578),\n",
       " ('fffex_2nd', 0.97691001079724504),\n",
       " ('bpeqx_2nd', 0.95019093310176761),\n",
       " ('tvafx_2nd', 0.88492784975585748),\n",
       " ('apix_2nd', 0.59204656900007879),\n",
       " ('yackx_1st', 0.37743101627269493),\n",
       " ('yaffx_1st', 0.34264537876268769),\n",
       " ('fmtix_1st', -0.037381489877926902),\n",
       " ('vadax_1st', -0.051071795464584166),\n",
       " ('bpeqx_1st', -0.12886949997246669),\n",
       " ('nbgux_1st', -0.18628007433217678),\n",
       " ('tvafx_1st', -0.22866805662218428),\n",
       " ('apix_1st', -0.24952105192502458),\n",
       " ('fffex_1st', -0.28446907579511116),\n",
       " ('gwetx_1st', -0.28455386984138942),\n",
       " ('swtsx_1st', -0.30779387575664607),\n",
       " ('fstmx_1st', -0.31158743064694161)]"
      ]
     },
     "execution_count": 48,
     "metadata": {},
     "output_type": "execute_result"
    }
   ],
   "source": [
    "# each of the two period\n",
    "rank_sharpe_ratio_2halves = sorted(mutual_funds_dict_2halves.items(), key=lambda x: x[1], reverse=True)\n",
    "rank_sharpe_ratio_2halves"
   ]
  },
  {
   "cell_type": "code",
   "execution_count": 49,
   "metadata": {},
   "outputs": [
    {
     "data": {
      "text/plain": [
       "[('yackx', 0.7454434587964035),\n",
       " ('yaffx', 0.71498832658347111),\n",
       " ('vadax', 0.50013604814382673),\n",
       " ('fmtix', 0.41789008155759377),\n",
       " ('bpeqx', 0.40161984649335786),\n",
       " ('gwetx', 0.35256928992412351),\n",
       " ('swtsx', 0.35222714204478706),\n",
       " ('nbgux', 0.35204537443456452),\n",
       " ('fstmx', 0.34404718981994881),\n",
       " ('tvafx', 0.3380152270101488),\n",
       " ('fffex', 0.28014764864902542),\n",
       " ('apix', 0.061121014543707872)]"
      ]
     },
     "execution_count": 49,
     "metadata": {},
     "output_type": "execute_result"
    }
   ],
   "source": [
    "# over the two period\n",
    "rank_sharpe_ratio"
   ]
  },
  {
   "cell_type": "markdown",
   "metadata": {},
   "source": [
    "## *Results*"
   ]
  },
  {
   "cell_type": "markdown",
   "metadata": {},
   "source": [
    "**Performance seems little bit different but \"YACKX\" is always good in both situations (1st half and 2nd half).**"
   ]
  },
  {
   "cell_type": "markdown",
   "metadata": {},
   "source": [
    "# *Comparing replicated portfolio & Mutual Funds*"
   ]
  },
  {
   "cell_type": "markdown",
   "metadata": {},
   "source": [
    "### *check out \"holding\"*"
   ]
  },
  {
   "cell_type": "code",
   "execution_count": 51,
   "metadata": {},
   "outputs": [],
   "source": [
    "holding = pd.read_csv(\"/Users/daham/Desktop/Quantitative Investment/good_projects_for_git/Replicate_Mutual_funds/Holding.csv\")"
   ]
  },
  {
   "cell_type": "code",
   "execution_count": 52,
   "metadata": {},
   "outputs": [
    {
     "data": {
      "text/html": [
       "<div>\n",
       "<style>\n",
       "    .dataframe thead tr:only-child th {\n",
       "        text-align: right;\n",
       "    }\n",
       "\n",
       "    .dataframe thead th {\n",
       "        text-align: left;\n",
       "    }\n",
       "\n",
       "    .dataframe tbody tr th {\n",
       "        vertical-align: top;\n",
       "    }\n",
       "</style>\n",
       "<table border=\"1\" class=\"dataframe\">\n",
       "  <thead>\n",
       "    <tr style=\"text-align: right;\">\n",
       "      <th></th>\n",
       "      <th>cusip</th>\n",
       "      <th>shares</th>\n",
       "      <th>tm</th>\n",
       "      <th>date</th>\n",
       "    </tr>\n",
       "  </thead>\n",
       "  <tbody>\n",
       "    <tr>\n",
       "      <th>3779</th>\n",
       "      <td>90297330</td>\n",
       "      <td>5250055</td>\n",
       "      <td>2016m12</td>\n",
       "      <td>30dec2016</td>\n",
       "    </tr>\n",
       "    <tr>\n",
       "      <th>3780</th>\n",
       "      <td>90478470</td>\n",
       "      <td>3472912</td>\n",
       "      <td>2016m12</td>\n",
       "      <td>30dec2016</td>\n",
       "    </tr>\n",
       "    <tr>\n",
       "      <th>3781</th>\n",
       "      <td>92553P20</td>\n",
       "      <td>4278238</td>\n",
       "      <td>2016m12</td>\n",
       "      <td>30dec2016</td>\n",
       "    </tr>\n",
       "    <tr>\n",
       "      <th>3782</th>\n",
       "      <td>93114210</td>\n",
       "      <td>1069740</td>\n",
       "      <td>2016m12</td>\n",
       "      <td>30dec2016</td>\n",
       "    </tr>\n",
       "    <tr>\n",
       "      <th>3783</th>\n",
       "      <td>94974610</td>\n",
       "      <td>1990082</td>\n",
       "      <td>2016m12</td>\n",
       "      <td>30dec2016</td>\n",
       "    </tr>\n",
       "  </tbody>\n",
       "</table>\n",
       "</div>"
      ],
      "text/plain": [
       "         cusip   shares       tm       date\n",
       "3779  90297330  5250055  2016m12  30dec2016\n",
       "3780  90478470  3472912  2016m12  30dec2016\n",
       "3781  92553P20  4278238  2016m12  30dec2016\n",
       "3782  93114210  1069740  2016m12  30dec2016\n",
       "3783  94974610  1990082  2016m12  30dec2016"
      ]
     },
     "execution_count": 52,
     "metadata": {},
     "output_type": "execute_result"
    }
   ],
   "source": [
    "holding.tail()"
   ]
  },
  {
   "cell_type": "code",
   "execution_count": 53,
   "metadata": {},
   "outputs": [
    {
     "data": {
      "text/plain": [
       "3784"
      ]
     },
     "execution_count": 53,
     "metadata": {},
     "output_type": "execute_result"
    }
   ],
   "source": [
    "len(holding)"
   ]
  },
  {
   "cell_type": "markdown",
   "metadata": {},
   "source": [
    "### *check out \"stock_return\"*"
   ]
  },
  {
   "cell_type": "code",
   "execution_count": 54,
   "metadata": {
    "collapsed": true
   },
   "outputs": [],
   "source": [
    "stock_return = pd.read_csv(\"/Users/daham/Desktop/Quantitative Investment/good_projects_for_git/Replicate_Mutual_funds/Stock_Return.csv\")\n"
   ]
  },
  {
   "cell_type": "code",
   "execution_count": 55,
   "metadata": {},
   "outputs": [
    {
     "data": {
      "text/plain": [
       "11346"
      ]
     },
     "execution_count": 55,
     "metadata": {},
     "output_type": "execute_result"
    }
   ],
   "source": [
    "len(stock_return)"
   ]
  },
  {
   "cell_type": "code",
   "execution_count": 56,
   "metadata": {
    "collapsed": true
   },
   "outputs": [],
   "source": [
    "# fill '0' which has no return value\n",
    "stock_return.loc[stock_return.loc[:,'ret'].isnull() ,'ret'] =0"
   ]
  },
  {
   "cell_type": "code",
   "execution_count": 57,
   "metadata": {
    "collapsed": true
   },
   "outputs": [],
   "source": [
    "# drop the data which has no price value\n",
    "# stock_return.dropna(subset=['price'], inplace=True)"
   ]
  },
  {
   "cell_type": "code",
   "execution_count": 58,
   "metadata": {
    "collapsed": true,
    "scrolled": false
   },
   "outputs": [],
   "source": [
    "#stock_return.dropna(subset=['ret'], inplace=True)"
   ]
  },
  {
   "cell_type": "code",
   "execution_count": 59,
   "metadata": {},
   "outputs": [
    {
     "data": {
      "text/plain": [
       "11346"
      ]
     },
     "execution_count": 59,
     "metadata": {},
     "output_type": "execute_result"
    }
   ],
   "source": [
    "len(stock_return)"
   ]
  },
  {
   "cell_type": "markdown",
   "metadata": {},
   "source": [
    "### *Merge \"holding\" & \"stock return\"*"
   ]
  },
  {
   "cell_type": "code",
   "execution_count": 60,
   "metadata": {
    "collapsed": true
   },
   "outputs": [],
   "source": [
    "merge = pd.merge(holding, stock_return, on=['cusip', 'tm'], how='outer')"
   ]
  },
  {
   "cell_type": "code",
   "execution_count": 61,
   "metadata": {},
   "outputs": [
    {
     "data": {
      "text/plain": [
       "11346"
      ]
     },
     "execution_count": 61,
     "metadata": {},
     "output_type": "execute_result"
    }
   ],
   "source": [
    "len(merge)"
   ]
  },
  {
   "cell_type": "markdown",
   "metadata": {},
   "source": [
    "### *Data pre-processing*"
   ]
  },
  {
   "cell_type": "code",
   "execution_count": 62,
   "metadata": {
    "collapsed": true
   },
   "outputs": [],
   "source": [
    "from datetime import date, datetime"
   ]
  },
  {
   "cell_type": "code",
   "execution_count": 63,
   "metadata": {
    "collapsed": true
   },
   "outputs": [],
   "source": [
    "def year_m_month_to_num_date(word_date):\n",
    "    algorithm=re.compile(r'(?P<year>[0-9]+)m(?P<month>[0-9]+)')\n",
    "    month = algorithm.search(word_date).group('month')\n",
    "    year = algorithm.search(word_date).group('year')\n",
    "    return date(int(year),int(month),25)"
   ]
  },
  {
   "cell_type": "code",
   "execution_count": 64,
   "metadata": {
    "collapsed": true,
    "scrolled": true
   },
   "outputs": [],
   "source": [
    "merge['tm'] = merge['tm'].map(year_m_month_to_num_date)"
   ]
  },
  {
   "cell_type": "code",
   "execution_count": 65,
   "metadata": {
    "collapsed": true
   },
   "outputs": [],
   "source": [
    "merge.sort_values(['cusip', 'tm'], inplace=True)"
   ]
  },
  {
   "cell_type": "code",
   "execution_count": 66,
   "metadata": {
    "collapsed": true
   },
   "outputs": [],
   "source": [
    "merge['shares'].fillna(method='backfill', limit=2, inplace=True)"
   ]
  },
  {
   "cell_type": "code",
   "execution_count": 67,
   "metadata": {
    "collapsed": true
   },
   "outputs": [],
   "source": [
    "# drop the data which doesn't have \"shares\" despite of data filling.\n",
    "# ex) preceeding 2 months are filled by every quarter's share numbers.\n",
    "# The number of shares of Jan, Feb are filled by the number of shares of March(1st quarter).\n",
    "# However, there is no filling way for July if the number of shares of September(3rd quarter) is absent.\n",
    "\n",
    "merge.dropna(subset=['shares'], inplace=True)"
   ]
  },
  {
   "cell_type": "code",
   "execution_count": 68,
   "metadata": {
    "collapsed": true
   },
   "outputs": [],
   "source": [
    "# drop the data which doesn't have \"price\".\n",
    "# It means that its stock has no value at that moment\n",
    "\n",
    "merge.dropna(subset=['price'], inplace=True)"
   ]
  },
  {
   "cell_type": "code",
   "execution_count": 69,
   "metadata": {
    "collapsed": true
   },
   "outputs": [],
   "source": [
    "merge.reset_index(drop=True, inplace=True)"
   ]
  },
  {
   "cell_type": "code",
   "execution_count": 70,
   "metadata": {
    "collapsed": true
   },
   "outputs": [],
   "source": [
    "merge['market_cap'] = merge['shares'] * merge['price']\n"
   ]
  },
  {
   "cell_type": "code",
   "execution_count": 71,
   "metadata": {
    "collapsed": true
   },
   "outputs": [],
   "source": [
    "merge['weight'] = merge['market_cap']/merge.groupby(['tm'])['market_cap'].transform('sum')\n"
   ]
  },
  {
   "cell_type": "markdown",
   "metadata": {},
   "source": [
    "### *Make new dataframe for replicated portfolio of Yacktman*"
   ]
  },
  {
   "cell_type": "code",
   "execution_count": 72,
   "metadata": {
    "collapsed": true
   },
   "outputs": [],
   "source": [
    "replicated_yacktman = pd.DataFrame({'date' : list(merge.groupby(['tm']).groups)})"
   ]
  },
  {
   "cell_type": "code",
   "execution_count": 73,
   "metadata": {
    "collapsed": true,
    "scrolled": true
   },
   "outputs": [],
   "source": [
    "for i in range(len(replicated_yacktman)):\n",
    "    # merge.groupby(['tm']).groups => show leveled data which grouped by 'tm'\n",
    "    # merge.groupby(['tm']).groups['date-data'] => sub-level of grouped data (shows all columns)\n",
    "    # merge.groupby(['tm']).groups['date-data']['column1'] => sub-level of grouped data (shows only column1)\n",
    "    replicated_yacktman.loc[i,'value_weighted_return'] = np.dot((merge.iloc[merge.groupby(['tm']).groups[replicated_yacktman['date'][i]]]['ret']),(merge.iloc[merge.groupby(['tm']).groups[replicated_yacktman['date'][i]]]['weight']))*100\n",
    "\n",
    "    "
   ]
  },
  {
   "cell_type": "code",
   "execution_count": 74,
   "metadata": {},
   "outputs": [
    {
     "data": {
      "text/html": [
       "<div>\n",
       "<style>\n",
       "    .dataframe thead tr:only-child th {\n",
       "        text-align: right;\n",
       "    }\n",
       "\n",
       "    .dataframe thead th {\n",
       "        text-align: left;\n",
       "    }\n",
       "\n",
       "    .dataframe tbody tr th {\n",
       "        vertical-align: top;\n",
       "    }\n",
       "</style>\n",
       "<table border=\"1\" class=\"dataframe\">\n",
       "  <thead>\n",
       "    <tr style=\"text-align: right;\">\n",
       "      <th></th>\n",
       "      <th>date</th>\n",
       "      <th>value_weighted_return</th>\n",
       "    </tr>\n",
       "  </thead>\n",
       "  <tbody>\n",
       "    <tr>\n",
       "      <th>0</th>\n",
       "      <td>2000-01-25</td>\n",
       "      <td>-3.851340</td>\n",
       "    </tr>\n",
       "    <tr>\n",
       "      <th>1</th>\n",
       "      <td>2000-02-25</td>\n",
       "      <td>-7.502488</td>\n",
       "    </tr>\n",
       "    <tr>\n",
       "      <th>2</th>\n",
       "      <td>2000-03-25</td>\n",
       "      <td>8.346159</td>\n",
       "    </tr>\n",
       "    <tr>\n",
       "      <th>3</th>\n",
       "      <td>2000-04-25</td>\n",
       "      <td>0.965942</td>\n",
       "    </tr>\n",
       "    <tr>\n",
       "      <th>4</th>\n",
       "      <td>2000-05-25</td>\n",
       "      <td>5.148885</td>\n",
       "    </tr>\n",
       "  </tbody>\n",
       "</table>\n",
       "</div>"
      ],
      "text/plain": [
       "         date  value_weighted_return\n",
       "0  2000-01-25              -3.851340\n",
       "1  2000-02-25              -7.502488\n",
       "2  2000-03-25               8.346159\n",
       "3  2000-04-25               0.965942\n",
       "4  2000-05-25               5.148885"
      ]
     },
     "execution_count": 74,
     "metadata": {},
     "output_type": "execute_result"
    }
   ],
   "source": [
    "replicated_yacktman.head()"
   ]
  },
  {
   "cell_type": "markdown",
   "metadata": {},
   "source": [
    "### *bring YACKX's data again to compare*"
   ]
  },
  {
   "cell_type": "code",
   "execution_count": 75,
   "metadata": {
    "collapsed": true
   },
   "outputs": [],
   "source": [
    "yackx_return_original = pd.DataFrame(mutual_fund.loc[mutual_fund['ticker']=='YACKX'][['date','mret']].reset_index(drop=True))\n"
   ]
  },
  {
   "cell_type": "code",
   "execution_count": 76,
   "metadata": {
    "collapsed": true
   },
   "outputs": [],
   "source": [
    "yackx_return_original.rename(columns={'mret':'original_monthly_return'}, inplace=True)"
   ]
  },
  {
   "cell_type": "code",
   "execution_count": 77,
   "metadata": {},
   "outputs": [
    {
     "data": {
      "text/html": [
       "<div>\n",
       "<style>\n",
       "    .dataframe thead tr:only-child th {\n",
       "        text-align: right;\n",
       "    }\n",
       "\n",
       "    .dataframe thead th {\n",
       "        text-align: left;\n",
       "    }\n",
       "\n",
       "    .dataframe tbody tr th {\n",
       "        vertical-align: top;\n",
       "    }\n",
       "</style>\n",
       "<table border=\"1\" class=\"dataframe\">\n",
       "  <thead>\n",
       "    <tr style=\"text-align: right;\">\n",
       "      <th></th>\n",
       "      <th>date</th>\n",
       "      <th>original_monthly_return</th>\n",
       "    </tr>\n",
       "  </thead>\n",
       "  <tbody>\n",
       "    <tr>\n",
       "      <th>0</th>\n",
       "      <td>2000-01-31</td>\n",
       "      <td>-7.02128</td>\n",
       "    </tr>\n",
       "    <tr>\n",
       "      <th>1</th>\n",
       "      <td>2000-02-29</td>\n",
       "      <td>-7.55149</td>\n",
       "    </tr>\n",
       "    <tr>\n",
       "      <th>2</th>\n",
       "      <td>2000-03-31</td>\n",
       "      <td>6.18812</td>\n",
       "    </tr>\n",
       "    <tr>\n",
       "      <th>3</th>\n",
       "      <td>2000-04-28</td>\n",
       "      <td>-3.62150</td>\n",
       "    </tr>\n",
       "    <tr>\n",
       "      <th>4</th>\n",
       "      <td>2000-05-31</td>\n",
       "      <td>3.27273</td>\n",
       "    </tr>\n",
       "  </tbody>\n",
       "</table>\n",
       "</div>"
      ],
      "text/plain": [
       "        date  original_monthly_return\n",
       "0 2000-01-31                 -7.02128\n",
       "1 2000-02-29                 -7.55149\n",
       "2 2000-03-31                  6.18812\n",
       "3 2000-04-28                 -3.62150\n",
       "4 2000-05-31                  3.27273"
      ]
     },
     "execution_count": 77,
     "metadata": {},
     "output_type": "execute_result"
    }
   ],
   "source": [
    "yackx_return_original.head()"
   ]
  },
  {
   "cell_type": "markdown",
   "metadata": {},
   "source": [
    "### *Combine both of them in a new dataframe*"
   ]
  },
  {
   "cell_type": "code",
   "execution_count": 78,
   "metadata": {
    "collapsed": true
   },
   "outputs": [],
   "source": [
    "comparing_two_portfolios = yackx_return_original.copy()\n"
   ]
  },
  {
   "cell_type": "code",
   "execution_count": 79,
   "metadata": {
    "collapsed": true
   },
   "outputs": [],
   "source": [
    "comparing_two_portfolios.loc[:, 'replicated_monthly_return'] = replicated_yacktman.loc[:, 'value_weighted_return']\n"
   ]
  },
  {
   "cell_type": "code",
   "execution_count": 80,
   "metadata": {
    "collapsed": true
   },
   "outputs": [],
   "source": [
    "comparing_two_portfolios.dropna(subset=['replicated_monthly_return'], inplace=True)\n"
   ]
  },
  {
   "cell_type": "code",
   "execution_count": 81,
   "metadata": {},
   "outputs": [
    {
     "data": {
      "text/html": [
       "<div>\n",
       "<style>\n",
       "    .dataframe thead tr:only-child th {\n",
       "        text-align: right;\n",
       "    }\n",
       "\n",
       "    .dataframe thead th {\n",
       "        text-align: left;\n",
       "    }\n",
       "\n",
       "    .dataframe tbody tr th {\n",
       "        vertical-align: top;\n",
       "    }\n",
       "</style>\n",
       "<table border=\"1\" class=\"dataframe\">\n",
       "  <thead>\n",
       "    <tr style=\"text-align: right;\">\n",
       "      <th></th>\n",
       "      <th>date</th>\n",
       "      <th>original_monthly_return</th>\n",
       "      <th>replicated_monthly_return</th>\n",
       "    </tr>\n",
       "  </thead>\n",
       "  <tbody>\n",
       "    <tr>\n",
       "      <th>0</th>\n",
       "      <td>2000-01-31</td>\n",
       "      <td>-7.02128</td>\n",
       "      <td>-3.851340</td>\n",
       "    </tr>\n",
       "    <tr>\n",
       "      <th>1</th>\n",
       "      <td>2000-02-29</td>\n",
       "      <td>-7.55149</td>\n",
       "      <td>-7.502488</td>\n",
       "    </tr>\n",
       "    <tr>\n",
       "      <th>2</th>\n",
       "      <td>2000-03-31</td>\n",
       "      <td>6.18812</td>\n",
       "      <td>8.346159</td>\n",
       "    </tr>\n",
       "    <tr>\n",
       "      <th>3</th>\n",
       "      <td>2000-04-28</td>\n",
       "      <td>-3.62150</td>\n",
       "      <td>0.965942</td>\n",
       "    </tr>\n",
       "    <tr>\n",
       "      <th>4</th>\n",
       "      <td>2000-05-31</td>\n",
       "      <td>3.27273</td>\n",
       "      <td>5.148885</td>\n",
       "    </tr>\n",
       "  </tbody>\n",
       "</table>\n",
       "</div>"
      ],
      "text/plain": [
       "        date  original_monthly_return  replicated_monthly_return\n",
       "0 2000-01-31                 -7.02128                  -3.851340\n",
       "1 2000-02-29                 -7.55149                  -7.502488\n",
       "2 2000-03-31                  6.18812                   8.346159\n",
       "3 2000-04-28                 -3.62150                   0.965942\n",
       "4 2000-05-31                  3.27273                   5.148885"
      ]
     },
     "execution_count": 81,
     "metadata": {},
     "output_type": "execute_result"
    }
   ],
   "source": [
    "comparing_two_portfolios.head()"
   ]
  },
  {
   "cell_type": "markdown",
   "metadata": {},
   "source": [
    "### *show two returns together*"
   ]
  },
  {
   "cell_type": "code",
   "execution_count": 82,
   "metadata": {
    "collapsed": true
   },
   "outputs": [],
   "source": [
    "import matplotlib.pyplot as plt\n",
    "%matplotlib inline"
   ]
  },
  {
   "cell_type": "code",
   "execution_count": 83,
   "metadata": {
    "collapsed": true
   },
   "outputs": [],
   "source": [
    "xaxis = comparing_two_portfolios['date']\n",
    "yaxis1 = comparing_two_portfolios['original_monthly_return']\n",
    "yaxis2 = comparing_two_portfolios['replicated_monthly_return']"
   ]
  },
  {
   "cell_type": "code",
   "execution_count": 84,
   "metadata": {},
   "outputs": [
    {
     "data": {
      "image/png": "[encoded data removed]",
      "text/plain": [
       "<matplotlib.figure.Figure at 0x1c14e08588>"
      ]
     },
     "metadata": {},
     "output_type": "display_data"
    }
   ],
   "source": [
    "plt.plot(xaxis, yaxis1, 'r', xaxis, yaxis2, 'b')\n",
    "plt.show()"
   ]
  },
  {
   "cell_type": "markdown",
   "metadata": {},
   "source": [
    "### *show two returns seperately*"
   ]
  },
  {
   "cell_type": "code",
   "execution_count": 85,
   "metadata": {},
   "outputs": [
    {
     "data": {
      "text/plain": [
       "[<matplotlib.lines.Line2D at 0x1c14eeacf8>]"
      ]
     },
     "execution_count": 85,
     "metadata": {},
     "output_type": "execute_result"
    },
    {
     "data": {
      "image/png": "[encoded data removed]",
      "text/plain": [
       "<matplotlib.figure.Figure at 0x1c14e939e8>"
      ]
     },
     "metadata": {},
     "output_type": "display_data"
    }
   ],
   "source": [
    "plt.plot(xaxis, yaxis1, 'r')"
   ]
  },
  {
   "cell_type": "code",
   "execution_count": 86,
   "metadata": {},
   "outputs": [
    {
     "data": {
      "text/plain": [
       "[<matplotlib.lines.Line2D at 0x1c14fbcb00>]"
      ]
     },
     "execution_count": 86,
     "metadata": {},
     "output_type": "execute_result"
    },
    {
     "data": {
      "image/png": "[encoded data removed]",
      "text/plain": [
       "<matplotlib.figure.Figure at 0x1c14eb7400>"
      ]
     },
     "metadata": {},
     "output_type": "display_data"
    }
   ],
   "source": [
    "plt.plot(xaxis, yaxis2, 'b')"
   ]
  },
  {
   "cell_type": "code",
   "execution_count": 87,
   "metadata": {},
   "outputs": [
    {
     "data": {
      "text/plain": [
       "0    0.929787\n",
       "1    0.924485\n",
       "2    1.061881\n",
       "3    0.963785\n",
       "4    1.032727\n",
       "Name: original_monthly_return, dtype: float64"
      ]
     },
     "execution_count": 87,
     "metadata": {},
     "output_type": "execute_result"
    }
   ],
   "source": [
    "new_yaxis1 = yaxis1.map(lambda x: x/100+1)\n",
    "new_yaxis1.head()"
   ]
  },
  {
   "cell_type": "markdown",
   "metadata": {},
   "source": [
    "### *Show comproducted returns*"
   ]
  },
  {
   "cell_type": "code",
   "execution_count": 88,
   "metadata": {},
   "outputs": [
    {
     "data": {
      "text/plain": [
       "199    6.049349\n",
       "200    6.020009\n",
       "201    6.022677\n",
       "202    6.118698\n",
       "203    6.190089\n",
       "Name: original_monthly_return, dtype: float64"
      ]
     },
     "execution_count": 88,
     "metadata": {},
     "output_type": "execute_result"
    }
   ],
   "source": [
    "cumprod_original = np.cumprod(new_yaxis1, axis=0)\n",
    "cumprod_original.tail()"
   ]
  },
  {
   "cell_type": "code",
   "execution_count": 89,
   "metadata": {},
   "outputs": [
    {
     "data": {
      "text/plain": [
       "0    0.961487\n",
       "1    0.924975\n",
       "2    1.083462\n",
       "3    1.009659\n",
       "4    1.051489\n",
       "Name: replicated_monthly_return, dtype: float64"
      ]
     },
     "execution_count": 89,
     "metadata": {},
     "output_type": "execute_result"
    }
   ],
   "source": [
    "new_yaxis2 = yaxis2.map(lambda x: x/100+1)\n",
    "new_yaxis2.head()"
   ]
  },
  {
   "cell_type": "code",
   "execution_count": 90,
   "metadata": {},
   "outputs": [
    {
     "data": {
      "text/plain": [
       "199    7.142840\n",
       "200    7.123356\n",
       "201    7.157364\n",
       "202    7.311158\n",
       "203    7.417823\n",
       "Name: replicated_monthly_return, dtype: float64"
      ]
     },
     "execution_count": 90,
     "metadata": {},
     "output_type": "execute_result"
    }
   ],
   "source": [
    "cumprod_replicated = np.cumprod(new_yaxis2, axis=0)\n",
    "cumprod_replicated.tail()"
   ]
  },
  {
   "cell_type": "code",
   "execution_count": 91,
   "metadata": {},
   "outputs": [
    {
     "data": {
      "image/png": "[encoded data removed]",
      "text/plain": [
       "<matplotlib.figure.Figure at 0x1c12b9fc88>"
      ]
     },
     "metadata": {},
     "output_type": "display_data"
    }
   ],
   "source": [
    "plt.plot(xaxis, cumprod_original, 'r', xaxis, cumprod_replicated, 'b')\n",
    "plt.show()"
   ]
  },
  {
   "cell_type": "markdown",
   "metadata": {},
   "source": [
    "## *Results*"
   ]
  },
  {
   "cell_type": "markdown",
   "metadata": {},
   "source": [
    "**replicated portfolio follows similar shape of YACKX, but slightly higher than YACKX**"
   ]
  },
  {
   "cell_type": "markdown",
   "metadata": {},
   "source": [
    "## *calcuate fama-french 3 factors*"
   ]
  },
  {
   "cell_type": "code",
   "execution_count": 92,
   "metadata": {},
   "outputs": [
    {
     "data": {
      "text/html": [
       "<div>\n",
       "<style>\n",
       "    .dataframe thead tr:only-child th {\n",
       "        text-align: right;\n",
       "    }\n",
       "\n",
       "    .dataframe thead th {\n",
       "        text-align: left;\n",
       "    }\n",
       "\n",
       "    .dataframe tbody tr th {\n",
       "        vertical-align: top;\n",
       "    }\n",
       "</style>\n",
       "<table border=\"1\" class=\"dataframe\">\n",
       "  <thead>\n",
       "    <tr style=\"text-align: right;\">\n",
       "      <th></th>\n",
       "      <th>Mkt-RF</th>\n",
       "      <th>SMB</th>\n",
       "      <th>HML</th>\n",
       "      <th>RF</th>\n",
       "    </tr>\n",
       "  </thead>\n",
       "  <tbody>\n",
       "    <tr>\n",
       "      <th>2016-08-01</th>\n",
       "      <td>0.50</td>\n",
       "      <td>1.17</td>\n",
       "      <td>3.34</td>\n",
       "      <td>0.02</td>\n",
       "    </tr>\n",
       "    <tr>\n",
       "      <th>2016-09-01</th>\n",
       "      <td>0.25</td>\n",
       "      <td>2.01</td>\n",
       "      <td>-1.49</td>\n",
       "      <td>0.02</td>\n",
       "    </tr>\n",
       "    <tr>\n",
       "      <th>2016-10-01</th>\n",
       "      <td>-2.02</td>\n",
       "      <td>-4.36</td>\n",
       "      <td>4.16</td>\n",
       "      <td>0.02</td>\n",
       "    </tr>\n",
       "    <tr>\n",
       "      <th>2016-11-01</th>\n",
       "      <td>4.86</td>\n",
       "      <td>5.48</td>\n",
       "      <td>8.27</td>\n",
       "      <td>0.01</td>\n",
       "    </tr>\n",
       "    <tr>\n",
       "      <th>2016-12-01</th>\n",
       "      <td>1.82</td>\n",
       "      <td>0.08</td>\n",
       "      <td>3.61</td>\n",
       "      <td>0.03</td>\n",
       "    </tr>\n",
       "  </tbody>\n",
       "</table>\n",
       "</div>"
      ],
      "text/plain": [
       "            Mkt-RF   SMB   HML    RF\n",
       "2016-08-01    0.50  1.17  3.34  0.02\n",
       "2016-09-01    0.25  2.01 -1.49  0.02\n",
       "2016-10-01   -2.02 -4.36  4.16  0.02\n",
       "2016-11-01    4.86  5.48  8.27  0.01\n",
       "2016-12-01    1.82  0.08  3.61  0.03"
      ]
     },
     "execution_count": 92,
     "metadata": {},
     "output_type": "execute_result"
    }
   ],
   "source": [
    "sliced_fama_french = fama_french[:-12]\n",
    "sliced_fama_french.tail()"
   ]
  },
  {
   "cell_type": "markdown",
   "metadata": {},
   "source": [
    "### *replicated & original portfolios return - risk free*"
   ]
  },
  {
   "cell_type": "code",
   "execution_count": 93,
   "metadata": {
    "collapsed": true
   },
   "outputs": [],
   "source": [
    "comparing_two_portfolios['orginal_mret_risk_free'] = comparing_two_portfolios['original_monthly_return']-sliced_fama_french.loc[:,'RF'].reset_index(drop=True)\n",
    "comparing_two_portfolios['replicated_mret_risk_free'] = comparing_two_portfolios['replicated_monthly_return']-sliced_fama_french.loc[:,'RF'].reset_index(drop=True)\n"
   ]
  },
  {
   "cell_type": "markdown",
   "metadata": {},
   "source": [
    "### *Preparing Regression for two portfolios*"
   ]
  },
  {
   "cell_type": "code",
   "execution_count": 94,
   "metadata": {
    "collapsed": true
   },
   "outputs": [],
   "source": [
    "original_df = array_to_dataframe(comparing_two_portfolios['orginal_mret_risk_free'], sliced_fama_french['Mkt-RF'], sliced_fama_french['SMB'], sliced_fama_french['HML'])\n",
    "replicated_df = array_to_dataframe(comparing_two_portfolios['replicated_monthly_return'], sliced_fama_french['Mkt-RF'], sliced_fama_french['SMB'], sliced_fama_french['HML'])\n"
   ]
  },
  {
   "cell_type": "markdown",
   "metadata": {},
   "source": [
    "### *Do Regression for two portfolios*"
   ]
  },
  {
   "cell_type": "code",
   "execution_count": 95,
   "metadata": {
    "scrolled": true
   },
   "outputs": [
    {
     "data": {
      "text/html": [
       "<table class=\"simpletable\">\n",
       "<caption>OLS Regression Results</caption>\n",
       "<tr>\n",
       "  <th>Dep. Variable:</th>        <td>Excess_rt</td>    <th>  R-squared:         </th> <td>   0.742</td>\n",
       "</tr>\n",
       "<tr>\n",
       "  <th>Model:</th>                   <td>OLS</td>       <th>  Adj. R-squared:    </th> <td>   0.739</td>\n",
       "</tr>\n",
       "<tr>\n",
       "  <th>Method:</th>             <td>Least Squares</td>  <th>  F-statistic:       </th> <td>   192.2</td>\n",
       "</tr>\n",
       "<tr>\n",
       "  <th>Date:</th>             <td>Sun, 15 Apr 2018</td> <th>  Prob (F-statistic):</th> <td>1.19e-58</td>\n",
       "</tr>\n",
       "<tr>\n",
       "  <th>Time:</th>                 <td>22:15:47</td>     <th>  Log-Likelihood:    </th> <td> -442.02</td>\n",
       "</tr>\n",
       "<tr>\n",
       "  <th>No. Observations:</th>      <td>   204</td>      <th>  AIC:               </th> <td>   892.0</td>\n",
       "</tr>\n",
       "<tr>\n",
       "  <th>Df Residuals:</th>          <td>   200</td>      <th>  BIC:               </th> <td>   905.3</td>\n",
       "</tr>\n",
       "<tr>\n",
       "  <th>Df Model:</th>              <td>     3</td>      <th>                     </th>     <td> </td>   \n",
       "</tr>\n",
       "<tr>\n",
       "  <th>Covariance Type:</th>      <td>nonrobust</td>    <th>                     </th>     <td> </td>   \n",
       "</tr>\n",
       "</table>\n",
       "<table class=\"simpletable\">\n",
       "<tr>\n",
       "      <td></td>         <th>coef</th>     <th>std err</th>      <th>t</th>      <th>P>|t|</th>  <th>[0.025</th>    <th>0.975]</th>  \n",
       "</tr>\n",
       "<tr>\n",
       "  <th>Intercept</th> <td>    0.4572</td> <td>    0.152</td> <td>    3.006</td> <td> 0.003</td> <td>    0.157</td> <td>    0.757</td>\n",
       "</tr>\n",
       "<tr>\n",
       "  <th>Mkt_RF</th>    <td>    0.7904</td> <td>    0.035</td> <td>   22.675</td> <td> 0.000</td> <td>    0.722</td> <td>    0.859</td>\n",
       "</tr>\n",
       "<tr>\n",
       "  <th>SMB</th>       <td>   -0.1089</td> <td>    0.047</td> <td>   -2.297</td> <td> 0.023</td> <td>   -0.202</td> <td>   -0.015</td>\n",
       "</tr>\n",
       "<tr>\n",
       "  <th>HML</th>       <td>    0.3431</td> <td>    0.048</td> <td>    7.113</td> <td> 0.000</td> <td>    0.248</td> <td>    0.438</td>\n",
       "</tr>\n",
       "</table>\n",
       "<table class=\"simpletable\">\n",
       "<tr>\n",
       "  <th>Omnibus:</th>       <td>89.096</td> <th>  Durbin-Watson:     </th> <td>   1.434</td>\n",
       "</tr>\n",
       "<tr>\n",
       "  <th>Prob(Omnibus):</th> <td> 0.000</td> <th>  Jarque-Bera (JB):  </th> <td> 442.294</td>\n",
       "</tr>\n",
       "<tr>\n",
       "  <th>Skew:</th>          <td> 1.638</td> <th>  Prob(JB):          </th> <td>9.06e-97</td>\n",
       "</tr>\n",
       "<tr>\n",
       "  <th>Kurtosis:</th>      <td> 9.427</td> <th>  Cond. No.          </th> <td>    4.77</td>\n",
       "</tr>\n",
       "</table>"
      ],
      "text/plain": [
       "<class 'statsmodels.iolib.summary.Summary'>\n",
       "\"\"\"\n",
       "                            OLS Regression Results                            \n",
       "==============================================================================\n",
       "Dep. Variable:              Excess_rt   R-squared:                       0.742\n",
       "Model:                            OLS   Adj. R-squared:                  0.739\n",
       "Method:                 Least Squares   F-statistic:                     192.2\n",
       "Date:                Sun, 15 Apr 2018   Prob (F-statistic):           1.19e-58\n",
       "Time:                        22:15:47   Log-Likelihood:                -442.02\n",
       "No. Observations:                 204   AIC:                             892.0\n",
       "Df Residuals:                     200   BIC:                             905.3\n",
       "Df Model:                           3                                         \n",
       "Covariance Type:            nonrobust                                         \n",
       "==============================================================================\n",
       "                 coef    std err          t      P>|t|      [0.025      0.975]\n",
       "------------------------------------------------------------------------------\n",
       "Intercept      0.4572      0.152      3.006      0.003       0.157       0.757\n",
       "Mkt_RF         0.7904      0.035     22.675      0.000       0.722       0.859\n",
       "SMB           -0.1089      0.047     -2.297      0.023      -0.202      -0.015\n",
       "HML            0.3431      0.048      7.113      0.000       0.248       0.438\n",
       "==============================================================================\n",
       "Omnibus:                       89.096   Durbin-Watson:                   1.434\n",
       "Prob(Omnibus):                  0.000   Jarque-Bera (JB):              442.294\n",
       "Skew:                           1.638   Prob(JB):                     9.06e-97\n",
       "Kurtosis:                       9.427   Cond. No.                         4.77\n",
       "==============================================================================\n",
       "\n",
       "Warnings:\n",
       "[1] Standard Errors assume that the covariance matrix of the errors is correctly specified.\n",
       "\"\"\""
      ]
     },
     "execution_count": 95,
     "metadata": {},
     "output_type": "execute_result"
    }
   ],
   "source": [
    "ff_3factor_reg_original = smf.ols('Excess_rt ~ Mkt_RF + SMB + HML',data=original_df).fit()\n",
    "ff_3factor_reg_replicated = smf.ols('Excess_rt ~ Mkt_RF + SMB + HML',data=replicated_df).fit()\n",
    "\n",
    "ff_3factor_reg_original.summary()"
   ]
  },
  {
   "cell_type": "markdown",
   "metadata": {},
   "source": [
    "### Original YACKX\n",
    "#### * Alpha: 0.4572 ---------- significant\n",
    "#### * Beta(Mkt-Rf): 0.7904 ---------- significant\n",
    "#### * Beta(SMB): -0.1089 ---------- significant\n",
    "#### * Beta(HML): 0.3431 ---------- significant\n",
    "#### * Adj. R-square: 0.739 "
   ]
  },
  {
   "cell_type": "code",
   "execution_count": 96,
   "metadata": {},
   "outputs": [
    {
     "data": {
      "text/html": [
       "<table class=\"simpletable\">\n",
       "<caption>OLS Regression Results</caption>\n",
       "<tr>\n",
       "  <th>Dep. Variable:</th>        <td>Excess_rt</td>    <th>  R-squared:         </th> <td>   0.756</td>\n",
       "</tr>\n",
       "<tr>\n",
       "  <th>Model:</th>                   <td>OLS</td>       <th>  Adj. R-squared:    </th> <td>   0.752</td>\n",
       "</tr>\n",
       "<tr>\n",
       "  <th>Method:</th>             <td>Least Squares</td>  <th>  F-statistic:       </th> <td>   206.7</td>\n",
       "</tr>\n",
       "<tr>\n",
       "  <th>Date:</th>             <td>Sun, 15 Apr 2018</td> <th>  Prob (F-statistic):</th> <td>5.20e-61</td>\n",
       "</tr>\n",
       "<tr>\n",
       "  <th>Time:</th>                 <td>22:15:48</td>     <th>  Log-Likelihood:    </th> <td> -465.83</td>\n",
       "</tr>\n",
       "<tr>\n",
       "  <th>No. Observations:</th>      <td>   204</td>      <th>  AIC:               </th> <td>   939.7</td>\n",
       "</tr>\n",
       "<tr>\n",
       "  <th>Df Residuals:</th>          <td>   200</td>      <th>  BIC:               </th> <td>   952.9</td>\n",
       "</tr>\n",
       "<tr>\n",
       "  <th>Df Model:</th>              <td>     3</td>      <th>                     </th>     <td> </td>   \n",
       "</tr>\n",
       "<tr>\n",
       "  <th>Covariance Type:</th>      <td>nonrobust</td>    <th>                     </th>     <td> </td>   \n",
       "</tr>\n",
       "</table>\n",
       "<table class=\"simpletable\">\n",
       "<tr>\n",
       "      <td></td>         <th>coef</th>     <th>std err</th>      <th>t</th>      <th>P>|t|</th>  <th>[0.025</th>    <th>0.975]</th>  \n",
       "</tr>\n",
       "<tr>\n",
       "  <th>Intercept</th> <td>    0.6696</td> <td>    0.171</td> <td>    3.917</td> <td> 0.000</td> <td>    0.332</td> <td>    1.007</td>\n",
       "</tr>\n",
       "<tr>\n",
       "  <th>Mkt_RF</th>    <td>    0.9207</td> <td>    0.039</td> <td>   23.502</td> <td> 0.000</td> <td>    0.843</td> <td>    0.998</td>\n",
       "</tr>\n",
       "<tr>\n",
       "  <th>SMB</th>       <td>   -0.2012</td> <td>    0.053</td> <td>   -3.777</td> <td> 0.000</td> <td>   -0.306</td> <td>   -0.096</td>\n",
       "</tr>\n",
       "<tr>\n",
       "  <th>HML</th>       <td>    0.4104</td> <td>    0.054</td> <td>    7.572</td> <td> 0.000</td> <td>    0.303</td> <td>    0.517</td>\n",
       "</tr>\n",
       "</table>\n",
       "<table class=\"simpletable\">\n",
       "<tr>\n",
       "  <th>Omnibus:</th>       <td>27.322</td> <th>  Durbin-Watson:     </th> <td>   1.547</td>\n",
       "</tr>\n",
       "<tr>\n",
       "  <th>Prob(Omnibus):</th> <td> 0.000</td> <th>  Jarque-Bera (JB):  </th> <td>  54.506</td>\n",
       "</tr>\n",
       "<tr>\n",
       "  <th>Skew:</th>          <td> 0.654</td> <th>  Prob(JB):          </th> <td>1.46e-12</td>\n",
       "</tr>\n",
       "<tr>\n",
       "  <th>Kurtosis:</th>      <td> 5.168</td> <th>  Cond. No.          </th> <td>    4.77</td>\n",
       "</tr>\n",
       "</table>"
      ],
      "text/plain": [
       "<class 'statsmodels.iolib.summary.Summary'>\n",
       "\"\"\"\n",
       "                            OLS Regression Results                            \n",
       "==============================================================================\n",
       "Dep. Variable:              Excess_rt   R-squared:                       0.756\n",
       "Model:                            OLS   Adj. R-squared:                  0.752\n",
       "Method:                 Least Squares   F-statistic:                     206.7\n",
       "Date:                Sun, 15 Apr 2018   Prob (F-statistic):           5.20e-61\n",
       "Time:                        22:15:48   Log-Likelihood:                -465.83\n",
       "No. Observations:                 204   AIC:                             939.7\n",
       "Df Residuals:                     200   BIC:                             952.9\n",
       "Df Model:                           3                                         \n",
       "Covariance Type:            nonrobust                                         \n",
       "==============================================================================\n",
       "                 coef    std err          t      P>|t|      [0.025      0.975]\n",
       "------------------------------------------------------------------------------\n",
       "Intercept      0.6696      0.171      3.917      0.000       0.332       1.007\n",
       "Mkt_RF         0.9207      0.039     23.502      0.000       0.843       0.998\n",
       "SMB           -0.2012      0.053     -3.777      0.000      -0.306      -0.096\n",
       "HML            0.4104      0.054      7.572      0.000       0.303       0.517\n",
       "==============================================================================\n",
       "Omnibus:                       27.322   Durbin-Watson:                   1.547\n",
       "Prob(Omnibus):                  0.000   Jarque-Bera (JB):               54.506\n",
       "Skew:                           0.654   Prob(JB):                     1.46e-12\n",
       "Kurtosis:                       5.168   Cond. No.                         4.77\n",
       "==============================================================================\n",
       "\n",
       "Warnings:\n",
       "[1] Standard Errors assume that the covariance matrix of the errors is correctly specified.\n",
       "\"\"\""
      ]
     },
     "execution_count": 96,
     "metadata": {},
     "output_type": "execute_result"
    }
   ],
   "source": [
    "ff_3factor_reg_replicated.summary()"
   ]
  },
  {
   "cell_type": "markdown",
   "metadata": {},
   "source": [
    "### Replicated Portfolio\n",
    "#### * Alpha: 0.6696 ---------- significant\n",
    "#### * Beta(Mkt-Rf): 0.9207 ---------- significant\n",
    "#### * Beta(SMB): -0.2012 ---------- significant\n",
    "#### * Beta(HML): 0.4104 ---------- significant\n",
    "#### * Adj. R-square: 0.752 "
   ]
  },
  {
   "cell_type": "markdown",
   "metadata": {},
   "source": [
    "## *Results*"
   ]
  },
  {
   "cell_type": "markdown",
   "metadata": {},
   "source": [
    "**The replicated portfolio shows better alpha and high R-square value.** \n",
    "\n",
    "**It means the replicated  portfolio is more like market portfolio and fits more to Fama-French 3 factor model.**"
   ]
  },
  {
   "cell_type": "code",
   "execution_count": null,
   "metadata": {
    "collapsed": true
   },
   "outputs": [],
   "source": []
  }
 ],
 "metadata": {
  "kernelspec": {
   "display_name": "Python 3",
   "language": "python",
   "name": "python3"
  },
  "language_info": {
   "codemirror_mode": {
    "name": "ipython",
    "version": 3
   },
   "file_extension": ".py",
   "mimetype": "text/x-python",
   "name": "python",
   "nbconvert_exporter": "python",
   "pygments_lexer": "ipython3",
   "version": "3.6.3"
  }
 },
 "nbformat": 4,
 "nbformat_minor": 2
}
